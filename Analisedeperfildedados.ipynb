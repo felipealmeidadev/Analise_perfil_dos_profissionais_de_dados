{
 "cells": [
  {
   "cell_type": "markdown",
   "id": "72835cc9",
   "metadata": {},
   "source": [
    "# Análise de Perfil dos Profissionais de Dados\n"
   ]
  },
  {
   "cell_type": "markdown",
   "id": "d49bd6d4",
   "metadata": {},
   "source": [
    "###### Com o surgimento de novos cenários, requisitos e tecnologias para alavancar a competitividade das empresas, tornou-se necessário uma reflexão sobre o perfil ideal do profissional para atuar na área de dados. \n",
    "\n",
    "###### Em novos tempos este tipo de reflexão se torna cada vez mais frequente pelas empresas e também pelos profissionais. Nessa análise iremos abordar as principais habilidades que compõem o perfil ideal do profissional que atua na área de dados, vamos identificar o salário médio, idade dos profissionais, tempo de experiência, nível de escolaridade, setores onde são mais aplicadas as  analises ciência de dados. Para tanto, além de o profissional conhecer as principais ferramentas e os métodos de analises diagnóstica, descritiva e preditiva, é necessário ter bastante conhecimento de negócio. Dessa forma, saberá escolher a melhor ferramenta para solucionar o problema, elaborar as análises dos dados, das análises feitas e tomar decisões assertivas. O profissional de dados também precisar fazer o storytelling, ou seja, saber contar histórias através das análises de dados para que outras pessoas entendam suas análises.\n",
    "\n",
    "###### Vamos às análises de perfis dos profissionais de dados."
   ]
  },
  {
   "cell_type": "code",
   "execution_count": 221,
   "id": "776a049a",
   "metadata": {},
   "outputs": [],
   "source": [
    "import pandas as pd"
   ]
  },
  {
   "cell_type": "code",
   "execution_count": 222,
   "id": "5d7cf94b",
   "metadata": {},
   "outputs": [
    {
     "data": {
      "text/html": [
       "<div>\n",
       "<style scoped>\n",
       "    .dataframe tbody tr th:only-of-type {\n",
       "        vertical-align: middle;\n",
       "    }\n",
       "\n",
       "    .dataframe tbody tr th {\n",
       "        vertical-align: top;\n",
       "    }\n",
       "\n",
       "    .dataframe thead th {\n",
       "        text-align: right;\n",
       "    }\n",
       "</style>\n",
       "<table border=\"1\" class=\"dataframe\">\n",
       "  <thead>\n",
       "    <tr style=\"text-align: right;\">\n",
       "      <th></th>\n",
       "      <th>('P0', 'id')</th>\n",
       "      <th>('P1', 'age')</th>\n",
       "      <th>('P2', 'gender')</th>\n",
       "      <th>('P3', 'living_in_brasil')</th>\n",
       "      <th>('P5', 'living_state')</th>\n",
       "      <th>('P6', 'born_or_graduated')</th>\n",
       "      <th>('P8', 'degreee_level')</th>\n",
       "      <th>('P10', 'job_situation')</th>\n",
       "      <th>('P12', 'workers_number')</th>\n",
       "      <th>('P13', 'manager')</th>\n",
       "      <th>...</th>\n",
       "      <th>('P34', 'other')</th>\n",
       "      <th>('P35', 'data_science_plataforms_preference')</th>\n",
       "      <th>('P35', 'other')</th>\n",
       "      <th>('P36', 'draw_participation')</th>\n",
       "      <th>('D1', 'living_macroregion')</th>\n",
       "      <th>('D2', 'origin_macroregion')</th>\n",
       "      <th>('D3', 'anonymized_degree_area')</th>\n",
       "      <th>('D4', 'anonymized_market_sector')</th>\n",
       "      <th>('D5', 'anonymized_manager_level')</th>\n",
       "      <th>('D6', 'anonymized_role')</th>\n",
       "    </tr>\n",
       "  </thead>\n",
       "  <tbody>\n",
       "    <tr>\n",
       "      <th>0</th>\n",
       "      <td>v9otv8j9wdvjrv9otvwnn9owhzq54ktv</td>\n",
       "      <td>37.0</td>\n",
       "      <td>Masculino</td>\n",
       "      <td>1</td>\n",
       "      <td>Minas Gerais (MG)</td>\n",
       "      <td>1.0</td>\n",
       "      <td>Estudante de Graduação</td>\n",
       "      <td>Empregado (CTL)</td>\n",
       "      <td>de 1 a 5</td>\n",
       "      <td>0.0</td>\n",
       "      <td>...</td>\n",
       "      <td>0</td>\n",
       "      <td>Nunca fiz cursos online</td>\n",
       "      <td>NaN</td>\n",
       "      <td>1.0</td>\n",
       "      <td>Região Sudeste</td>\n",
       "      <td>NaN</td>\n",
       "      <td>Computação / Engenharia de Software / Sistemas...</td>\n",
       "      <td>Outras</td>\n",
       "      <td>NaN</td>\n",
       "      <td>Outras</td>\n",
       "    </tr>\n",
       "    <tr>\n",
       "      <th>1</th>\n",
       "      <td>875ul998t0hqcv0871uptwf3oswcfv35</td>\n",
       "      <td>24.0</td>\n",
       "      <td>Feminino</td>\n",
       "      <td>1</td>\n",
       "      <td>São Paulo (SP)</td>\n",
       "      <td>1.0</td>\n",
       "      <td>Estudante de Graduação</td>\n",
       "      <td>Empregado (CTL)</td>\n",
       "      <td>Acima de 3000</td>\n",
       "      <td>0.0</td>\n",
       "      <td>...</td>\n",
       "      <td>1</td>\n",
       "      <td>NaN</td>\n",
       "      <td>Data Science Academy</td>\n",
       "      <td>0.0</td>\n",
       "      <td>Região Sudeste</td>\n",
       "      <td>NaN</td>\n",
       "      <td>Computação / Engenharia de Software / Sistemas...</td>\n",
       "      <td>Educação</td>\n",
       "      <td>NaN</td>\n",
       "      <td>Data Analyst/Analista de Dados</td>\n",
       "    </tr>\n",
       "    <tr>\n",
       "      <th>2</th>\n",
       "      <td>puscuk079vw1pusbb900pzw2xvpxtgdk</td>\n",
       "      <td>26.0</td>\n",
       "      <td>Masculino</td>\n",
       "      <td>1</td>\n",
       "      <td>São Paulo (SP)</td>\n",
       "      <td>1.0</td>\n",
       "      <td>Graduação/Bacharelado</td>\n",
       "      <td>Empregado (CTL)</td>\n",
       "      <td>Acima de 3000</td>\n",
       "      <td>0.0</td>\n",
       "      <td>...</td>\n",
       "      <td>0</td>\n",
       "      <td>Udemy</td>\n",
       "      <td>NaN</td>\n",
       "      <td>1.0</td>\n",
       "      <td>Região Sudeste</td>\n",
       "      <td>NaN</td>\n",
       "      <td>Outras Engenharias</td>\n",
       "      <td>Indústria (Manufatura)</td>\n",
       "      <td>NaN</td>\n",
       "      <td>Outras</td>\n",
       "    </tr>\n",
       "    <tr>\n",
       "      <th>3</th>\n",
       "      <td>rmel8ewqpbffp2mnfbzermel8eqincov</td>\n",
       "      <td>21.0</td>\n",
       "      <td>Masculino</td>\n",
       "      <td>1</td>\n",
       "      <td>São Paulo (SP)</td>\n",
       "      <td>0.0</td>\n",
       "      <td>Estudante de Graduação</td>\n",
       "      <td>Estagiário</td>\n",
       "      <td>de 11 a 50</td>\n",
       "      <td>0.0</td>\n",
       "      <td>...</td>\n",
       "      <td>0</td>\n",
       "      <td>Alura</td>\n",
       "      <td>NaN</td>\n",
       "      <td>1.0</td>\n",
       "      <td>Região Sudeste</td>\n",
       "      <td>Região Sudeste</td>\n",
       "      <td>Computação / Engenharia de Software / Sistemas...</td>\n",
       "      <td>Tecnologia/Fábrica de Software</td>\n",
       "      <td>NaN</td>\n",
       "      <td>Business Intelligence/Analista de BI</td>\n",
       "    </tr>\n",
       "    <tr>\n",
       "      <th>4</th>\n",
       "      <td>pj9mgud4d6mdct1l7vq0pj9mgu78h6ju</td>\n",
       "      <td>27.0</td>\n",
       "      <td>Masculino</td>\n",
       "      <td>1</td>\n",
       "      <td>NaN</td>\n",
       "      <td>1.0</td>\n",
       "      <td>Graduação/Bacharelado</td>\n",
       "      <td>Freelancer</td>\n",
       "      <td>de 6 a 10</td>\n",
       "      <td>1.0</td>\n",
       "      <td>...</td>\n",
       "      <td>0</td>\n",
       "      <td>Udemy</td>\n",
       "      <td>NaN</td>\n",
       "      <td>1.0</td>\n",
       "      <td>NaN</td>\n",
       "      <td>NaN</td>\n",
       "      <td>Computação / Engenharia de Software / Sistemas...</td>\n",
       "      <td>Internet/Ecommerce</td>\n",
       "      <td>C-level (CDO, CIO, CTO)</td>\n",
       "      <td>NaN</td>\n",
       "    </tr>\n",
       "    <tr>\n",
       "      <th>...</th>\n",
       "      <td>...</td>\n",
       "      <td>...</td>\n",
       "      <td>...</td>\n",
       "      <td>...</td>\n",
       "      <td>...</td>\n",
       "      <td>...</td>\n",
       "      <td>...</td>\n",
       "      <td>...</td>\n",
       "      <td>...</td>\n",
       "      <td>...</td>\n",
       "      <td>...</td>\n",
       "      <td>...</td>\n",
       "      <td>...</td>\n",
       "      <td>...</td>\n",
       "      <td>...</td>\n",
       "      <td>...</td>\n",
       "      <td>...</td>\n",
       "      <td>...</td>\n",
       "      <td>...</td>\n",
       "      <td>...</td>\n",
       "      <td>...</td>\n",
       "    </tr>\n",
       "    <tr>\n",
       "      <th>1760</th>\n",
       "      <td>qkjyuc8dayrrqahyjqkj841kpgymnpau</td>\n",
       "      <td>23.0</td>\n",
       "      <td>Feminino</td>\n",
       "      <td>1</td>\n",
       "      <td>Minas Gerais (MG)</td>\n",
       "      <td>1.0</td>\n",
       "      <td>Graduação/Bacharelado</td>\n",
       "      <td>Desempregado, buscando recolocação</td>\n",
       "      <td>NaN</td>\n",
       "      <td>NaN</td>\n",
       "      <td>...</td>\n",
       "      <td>0</td>\n",
       "      <td>Udemy</td>\n",
       "      <td>NaN</td>\n",
       "      <td>0.0</td>\n",
       "      <td>Região Sudeste</td>\n",
       "      <td>NaN</td>\n",
       "      <td>Outras</td>\n",
       "      <td>NaN</td>\n",
       "      <td>NaN</td>\n",
       "      <td>NaN</td>\n",
       "    </tr>\n",
       "    <tr>\n",
       "      <th>1761</th>\n",
       "      <td>7z5vvw7ycrxn4sujnv7z5vvw7r36gi5k</td>\n",
       "      <td>39.0</td>\n",
       "      <td>Masculino</td>\n",
       "      <td>1</td>\n",
       "      <td>São Paulo (SP)</td>\n",
       "      <td>1.0</td>\n",
       "      <td>Estudante de Graduação</td>\n",
       "      <td>Empregado (CTL)</td>\n",
       "      <td>de 1001 a 3000</td>\n",
       "      <td>0.0</td>\n",
       "      <td>...</td>\n",
       "      <td>0</td>\n",
       "      <td>Udemy</td>\n",
       "      <td>NaN</td>\n",
       "      <td>1.0</td>\n",
       "      <td>Região Sudeste</td>\n",
       "      <td>NaN</td>\n",
       "      <td>Computação / Engenharia de Software / Sistemas...</td>\n",
       "      <td>Tecnologia/Fábrica de Software</td>\n",
       "      <td>NaN</td>\n",
       "      <td>Business Analyst/Analista de Negócios</td>\n",
       "    </tr>\n",
       "    <tr>\n",
       "      <th>1762</th>\n",
       "      <td>0s2jaountv3tyrae0sir4jd8o5hz19ob</td>\n",
       "      <td>36.0</td>\n",
       "      <td>Masculino</td>\n",
       "      <td>1</td>\n",
       "      <td>Paraná (PR)</td>\n",
       "      <td>0.0</td>\n",
       "      <td>Pós-graduação</td>\n",
       "      <td>Empregado (CTL)</td>\n",
       "      <td>Acima de 3000</td>\n",
       "      <td>0.0</td>\n",
       "      <td>...</td>\n",
       "      <td>0</td>\n",
       "      <td>Udemy</td>\n",
       "      <td>NaN</td>\n",
       "      <td>1.0</td>\n",
       "      <td>Região Sul</td>\n",
       "      <td>Região Nordeste</td>\n",
       "      <td>Computação / Engenharia de Software / Sistemas...</td>\n",
       "      <td>Tecnologia/Fábrica de Software</td>\n",
       "      <td>NaN</td>\n",
       "      <td>Data Engineer/Engenheiro de Dados</td>\n",
       "    </tr>\n",
       "    <tr>\n",
       "      <th>1763</th>\n",
       "      <td>r3kvh535z7xai2v8er3kv791tkmcysz8</td>\n",
       "      <td>29.0</td>\n",
       "      <td>Masculino</td>\n",
       "      <td>1</td>\n",
       "      <td>Minas Gerais (MG)</td>\n",
       "      <td>1.0</td>\n",
       "      <td>Não tenho graduação formal</td>\n",
       "      <td>Empreendedor ou Empregado (CNPJ)</td>\n",
       "      <td>de 11 a 50</td>\n",
       "      <td>1.0</td>\n",
       "      <td>...</td>\n",
       "      <td>0</td>\n",
       "      <td>Udacity</td>\n",
       "      <td>NaN</td>\n",
       "      <td>0.0</td>\n",
       "      <td>Região Sudeste</td>\n",
       "      <td>NaN</td>\n",
       "      <td>NaN</td>\n",
       "      <td>Tecnologia/Fábrica de Software</td>\n",
       "      <td>C-level (CDO, CIO, CTO)</td>\n",
       "      <td>Data Engineer/Engenheiro de Dados</td>\n",
       "    </tr>\n",
       "    <tr>\n",
       "      <th>1764</th>\n",
       "      <td>1cz0hm5i92rw913f1cz0hmvferfavkkb</td>\n",
       "      <td>22.0</td>\n",
       "      <td>NaN</td>\n",
       "      <td>0</td>\n",
       "      <td>NaN</td>\n",
       "      <td>NaN</td>\n",
       "      <td>Não tenho graduação formal</td>\n",
       "      <td>Prefiro não dizer</td>\n",
       "      <td>Acima de 3000</td>\n",
       "      <td>0.0</td>\n",
       "      <td>...</td>\n",
       "      <td>0</td>\n",
       "      <td>Udemy</td>\n",
       "      <td>NaN</td>\n",
       "      <td>0.0</td>\n",
       "      <td>NaN</td>\n",
       "      <td>NaN</td>\n",
       "      <td>NaN</td>\n",
       "      <td>Setor Alimentício</td>\n",
       "      <td>NaN</td>\n",
       "      <td>Estatístico</td>\n",
       "    </tr>\n",
       "  </tbody>\n",
       "</table>\n",
       "<p>1765 rows × 170 columns</p>\n",
       "</div>"
      ],
      "text/plain": [
       "                          ('P0', 'id')  ('P1', 'age') ('P2', 'gender')  \\\n",
       "0     v9otv8j9wdvjrv9otvwnn9owhzq54ktv           37.0        Masculino   \n",
       "1     875ul998t0hqcv0871uptwf3oswcfv35           24.0         Feminino   \n",
       "2     puscuk079vw1pusbb900pzw2xvpxtgdk           26.0        Masculino   \n",
       "3     rmel8ewqpbffp2mnfbzermel8eqincov           21.0        Masculino   \n",
       "4     pj9mgud4d6mdct1l7vq0pj9mgu78h6ju           27.0        Masculino   \n",
       "...                                ...            ...              ...   \n",
       "1760  qkjyuc8dayrrqahyjqkj841kpgymnpau           23.0         Feminino   \n",
       "1761  7z5vvw7ycrxn4sujnv7z5vvw7r36gi5k           39.0        Masculino   \n",
       "1762  0s2jaountv3tyrae0sir4jd8o5hz19ob           36.0        Masculino   \n",
       "1763  r3kvh535z7xai2v8er3kv791tkmcysz8           29.0        Masculino   \n",
       "1764  1cz0hm5i92rw913f1cz0hmvferfavkkb           22.0              NaN   \n",
       "\n",
       "      ('P3', 'living_in_brasil') ('P5', 'living_state')  \\\n",
       "0                              1      Minas Gerais (MG)   \n",
       "1                              1         São Paulo (SP)   \n",
       "2                              1         São Paulo (SP)   \n",
       "3                              1         São Paulo (SP)   \n",
       "4                              1                    NaN   \n",
       "...                          ...                    ...   \n",
       "1760                           1      Minas Gerais (MG)   \n",
       "1761                           1         São Paulo (SP)   \n",
       "1762                           1            Paraná (PR)   \n",
       "1763                           1      Minas Gerais (MG)   \n",
       "1764                           0                    NaN   \n",
       "\n",
       "      ('P6', 'born_or_graduated')     ('P8', 'degreee_level')  \\\n",
       "0                             1.0      Estudante de Graduação   \n",
       "1                             1.0      Estudante de Graduação   \n",
       "2                             1.0       Graduação/Bacharelado   \n",
       "3                             0.0      Estudante de Graduação   \n",
       "4                             1.0       Graduação/Bacharelado   \n",
       "...                           ...                         ...   \n",
       "1760                          1.0       Graduação/Bacharelado   \n",
       "1761                          1.0      Estudante de Graduação   \n",
       "1762                          0.0               Pós-graduação   \n",
       "1763                          1.0  Não tenho graduação formal   \n",
       "1764                          NaN  Não tenho graduação formal   \n",
       "\n",
       "                ('P10', 'job_situation') ('P12', 'workers_number')  \\\n",
       "0                        Empregado (CTL)                  de 1 a 5   \n",
       "1                        Empregado (CTL)             Acima de 3000   \n",
       "2                        Empregado (CTL)             Acima de 3000   \n",
       "3                             Estagiário                de 11 a 50   \n",
       "4                             Freelancer                 de 6 a 10   \n",
       "...                                  ...                       ...   \n",
       "1760  Desempregado, buscando recolocação                       NaN   \n",
       "1761                     Empregado (CTL)            de 1001 a 3000   \n",
       "1762                     Empregado (CTL)             Acima de 3000   \n",
       "1763    Empreendedor ou Empregado (CNPJ)                de 11 a 50   \n",
       "1764                   Prefiro não dizer             Acima de 3000   \n",
       "\n",
       "      ('P13', 'manager')  ... ('P34', 'other')  \\\n",
       "0                    0.0  ...                0   \n",
       "1                    0.0  ...                1   \n",
       "2                    0.0  ...                0   \n",
       "3                    0.0  ...                0   \n",
       "4                    1.0  ...                0   \n",
       "...                  ...  ...              ...   \n",
       "1760                 NaN  ...                0   \n",
       "1761                 0.0  ...                0   \n",
       "1762                 0.0  ...                0   \n",
       "1763                 1.0  ...                0   \n",
       "1764                 0.0  ...                0   \n",
       "\n",
       "     ('P35', 'data_science_plataforms_preference')      ('P35', 'other')  \\\n",
       "0                          Nunca fiz cursos online                   NaN   \n",
       "1                                              NaN  Data Science Academy   \n",
       "2                                            Udemy                   NaN   \n",
       "3                                            Alura                   NaN   \n",
       "4                                            Udemy                   NaN   \n",
       "...                                            ...                   ...   \n",
       "1760                                         Udemy                   NaN   \n",
       "1761                                         Udemy                   NaN   \n",
       "1762                                         Udemy                   NaN   \n",
       "1763                                       Udacity                   NaN   \n",
       "1764                                         Udemy                   NaN   \n",
       "\n",
       "      ('P36', 'draw_participation')  ('D1', 'living_macroregion')  \\\n",
       "0                               1.0                Região Sudeste   \n",
       "1                               0.0                Região Sudeste   \n",
       "2                               1.0                Região Sudeste   \n",
       "3                               1.0                Região Sudeste   \n",
       "4                               1.0                           NaN   \n",
       "...                             ...                           ...   \n",
       "1760                            0.0                Região Sudeste   \n",
       "1761                            1.0                Região Sudeste   \n",
       "1762                            1.0                    Região Sul   \n",
       "1763                            0.0                Região Sudeste   \n",
       "1764                            0.0                           NaN   \n",
       "\n",
       "      ('D2', 'origin_macroregion')  \\\n",
       "0                              NaN   \n",
       "1                              NaN   \n",
       "2                              NaN   \n",
       "3                   Região Sudeste   \n",
       "4                              NaN   \n",
       "...                            ...   \n",
       "1760                           NaN   \n",
       "1761                           NaN   \n",
       "1762               Região Nordeste   \n",
       "1763                           NaN   \n",
       "1764                           NaN   \n",
       "\n",
       "                       ('D3', 'anonymized_degree_area')  \\\n",
       "0     Computação / Engenharia de Software / Sistemas...   \n",
       "1     Computação / Engenharia de Software / Sistemas...   \n",
       "2                                    Outras Engenharias   \n",
       "3     Computação / Engenharia de Software / Sistemas...   \n",
       "4     Computação / Engenharia de Software / Sistemas...   \n",
       "...                                                 ...   \n",
       "1760                                             Outras   \n",
       "1761  Computação / Engenharia de Software / Sistemas...   \n",
       "1762  Computação / Engenharia de Software / Sistemas...   \n",
       "1763                                                NaN   \n",
       "1764                                                NaN   \n",
       "\n",
       "      ('D4', 'anonymized_market_sector')  ('D5', 'anonymized_manager_level')  \\\n",
       "0                                 Outras                                 NaN   \n",
       "1                               Educação                                 NaN   \n",
       "2                 Indústria (Manufatura)                                 NaN   \n",
       "3         Tecnologia/Fábrica de Software                                 NaN   \n",
       "4                     Internet/Ecommerce             C-level (CDO, CIO, CTO)   \n",
       "...                                  ...                                 ...   \n",
       "1760                                 NaN                                 NaN   \n",
       "1761      Tecnologia/Fábrica de Software                                 NaN   \n",
       "1762      Tecnologia/Fábrica de Software                                 NaN   \n",
       "1763      Tecnologia/Fábrica de Software             C-level (CDO, CIO, CTO)   \n",
       "1764                   Setor Alimentício                                 NaN   \n",
       "\n",
       "                  ('D6', 'anonymized_role')  \n",
       "0                                    Outras  \n",
       "1            Data Analyst/Analista de Dados  \n",
       "2                                    Outras  \n",
       "3      Business Intelligence/Analista de BI  \n",
       "4                                       NaN  \n",
       "...                                     ...  \n",
       "1760                                    NaN  \n",
       "1761  Business Analyst/Analista de Negócios  \n",
       "1762      Data Engineer/Engenheiro de Dados  \n",
       "1763      Data Engineer/Engenheiro de Dados  \n",
       "1764                            Estatístico  \n",
       "\n",
       "[1765 rows x 170 columns]"
      ]
     },
     "execution_count": 222,
     "metadata": {},
     "output_type": "execute_result"
    }
   ],
   "source": [
    "analisando = pd.read_csv('datahackers-survey-2019-anonymous-responses.csv')\n",
    "analisando"
   ]
  },
  {
   "cell_type": "markdown",
   "id": "83d8c8ea",
   "metadata": {},
   "source": [
    "###### Informação do DataFRame"
   ]
  },
  {
   "cell_type": "code",
   "execution_count": 223,
   "id": "9d64a2e5",
   "metadata": {},
   "outputs": [
    {
     "name": "stdout",
     "output_type": "stream",
     "text": [
      "<class 'pandas.core.frame.DataFrame'>\n",
      "RangeIndex: 1765 entries, 0 to 1764\n",
      "Columns: 170 entries, ('P0', 'id') to ('D6', 'anonymized_role')\n",
      "dtypes: float64(5), int64(146), object(19)\n",
      "memory usage: 2.3+ MB\n"
     ]
    }
   ],
   "source": [
    "analisando.info()"
   ]
  },
  {
   "cell_type": "markdown",
   "id": "79f48909",
   "metadata": {},
   "source": [
    "###### Verificando se a dados faltantes (onde for 'True', significa dados incompletos ou faltantes)"
   ]
  },
  {
   "cell_type": "code",
   "execution_count": 224,
   "id": "6abfeaac",
   "metadata": {},
   "outputs": [
    {
     "data": {
      "text/html": [
       "<div>\n",
       "<style scoped>\n",
       "    .dataframe tbody tr th:only-of-type {\n",
       "        vertical-align: middle;\n",
       "    }\n",
       "\n",
       "    .dataframe tbody tr th {\n",
       "        vertical-align: top;\n",
       "    }\n",
       "\n",
       "    .dataframe thead th {\n",
       "        text-align: right;\n",
       "    }\n",
       "</style>\n",
       "<table border=\"1\" class=\"dataframe\">\n",
       "  <thead>\n",
       "    <tr style=\"text-align: right;\">\n",
       "      <th></th>\n",
       "      <th>('P0', 'id')</th>\n",
       "      <th>('P1', 'age')</th>\n",
       "      <th>('P2', 'gender')</th>\n",
       "      <th>('P3', 'living_in_brasil')</th>\n",
       "      <th>('P5', 'living_state')</th>\n",
       "      <th>('P6', 'born_or_graduated')</th>\n",
       "      <th>('P8', 'degreee_level')</th>\n",
       "      <th>('P10', 'job_situation')</th>\n",
       "      <th>('P12', 'workers_number')</th>\n",
       "      <th>('P13', 'manager')</th>\n",
       "      <th>...</th>\n",
       "      <th>('P34', 'other')</th>\n",
       "      <th>('P35', 'data_science_plataforms_preference')</th>\n",
       "      <th>('P35', 'other')</th>\n",
       "      <th>('P36', 'draw_participation')</th>\n",
       "      <th>('D1', 'living_macroregion')</th>\n",
       "      <th>('D2', 'origin_macroregion')</th>\n",
       "      <th>('D3', 'anonymized_degree_area')</th>\n",
       "      <th>('D4', 'anonymized_market_sector')</th>\n",
       "      <th>('D5', 'anonymized_manager_level')</th>\n",
       "      <th>('D6', 'anonymized_role')</th>\n",
       "    </tr>\n",
       "  </thead>\n",
       "  <tbody>\n",
       "    <tr>\n",
       "      <th>0</th>\n",
       "      <td>False</td>\n",
       "      <td>False</td>\n",
       "      <td>False</td>\n",
       "      <td>False</td>\n",
       "      <td>False</td>\n",
       "      <td>False</td>\n",
       "      <td>False</td>\n",
       "      <td>False</td>\n",
       "      <td>False</td>\n",
       "      <td>False</td>\n",
       "      <td>...</td>\n",
       "      <td>False</td>\n",
       "      <td>False</td>\n",
       "      <td>True</td>\n",
       "      <td>False</td>\n",
       "      <td>False</td>\n",
       "      <td>True</td>\n",
       "      <td>False</td>\n",
       "      <td>False</td>\n",
       "      <td>True</td>\n",
       "      <td>False</td>\n",
       "    </tr>\n",
       "    <tr>\n",
       "      <th>1</th>\n",
       "      <td>False</td>\n",
       "      <td>False</td>\n",
       "      <td>False</td>\n",
       "      <td>False</td>\n",
       "      <td>False</td>\n",
       "      <td>False</td>\n",
       "      <td>False</td>\n",
       "      <td>False</td>\n",
       "      <td>False</td>\n",
       "      <td>False</td>\n",
       "      <td>...</td>\n",
       "      <td>False</td>\n",
       "      <td>True</td>\n",
       "      <td>False</td>\n",
       "      <td>False</td>\n",
       "      <td>False</td>\n",
       "      <td>True</td>\n",
       "      <td>False</td>\n",
       "      <td>False</td>\n",
       "      <td>True</td>\n",
       "      <td>False</td>\n",
       "    </tr>\n",
       "    <tr>\n",
       "      <th>2</th>\n",
       "      <td>False</td>\n",
       "      <td>False</td>\n",
       "      <td>False</td>\n",
       "      <td>False</td>\n",
       "      <td>False</td>\n",
       "      <td>False</td>\n",
       "      <td>False</td>\n",
       "      <td>False</td>\n",
       "      <td>False</td>\n",
       "      <td>False</td>\n",
       "      <td>...</td>\n",
       "      <td>False</td>\n",
       "      <td>False</td>\n",
       "      <td>True</td>\n",
       "      <td>False</td>\n",
       "      <td>False</td>\n",
       "      <td>True</td>\n",
       "      <td>False</td>\n",
       "      <td>False</td>\n",
       "      <td>True</td>\n",
       "      <td>False</td>\n",
       "    </tr>\n",
       "    <tr>\n",
       "      <th>3</th>\n",
       "      <td>False</td>\n",
       "      <td>False</td>\n",
       "      <td>False</td>\n",
       "      <td>False</td>\n",
       "      <td>False</td>\n",
       "      <td>False</td>\n",
       "      <td>False</td>\n",
       "      <td>False</td>\n",
       "      <td>False</td>\n",
       "      <td>False</td>\n",
       "      <td>...</td>\n",
       "      <td>False</td>\n",
       "      <td>False</td>\n",
       "      <td>True</td>\n",
       "      <td>False</td>\n",
       "      <td>False</td>\n",
       "      <td>False</td>\n",
       "      <td>False</td>\n",
       "      <td>False</td>\n",
       "      <td>True</td>\n",
       "      <td>False</td>\n",
       "    </tr>\n",
       "    <tr>\n",
       "      <th>4</th>\n",
       "      <td>False</td>\n",
       "      <td>False</td>\n",
       "      <td>False</td>\n",
       "      <td>False</td>\n",
       "      <td>True</td>\n",
       "      <td>False</td>\n",
       "      <td>False</td>\n",
       "      <td>False</td>\n",
       "      <td>False</td>\n",
       "      <td>False</td>\n",
       "      <td>...</td>\n",
       "      <td>False</td>\n",
       "      <td>False</td>\n",
       "      <td>True</td>\n",
       "      <td>False</td>\n",
       "      <td>True</td>\n",
       "      <td>True</td>\n",
       "      <td>False</td>\n",
       "      <td>False</td>\n",
       "      <td>False</td>\n",
       "      <td>True</td>\n",
       "    </tr>\n",
       "    <tr>\n",
       "      <th>...</th>\n",
       "      <td>...</td>\n",
       "      <td>...</td>\n",
       "      <td>...</td>\n",
       "      <td>...</td>\n",
       "      <td>...</td>\n",
       "      <td>...</td>\n",
       "      <td>...</td>\n",
       "      <td>...</td>\n",
       "      <td>...</td>\n",
       "      <td>...</td>\n",
       "      <td>...</td>\n",
       "      <td>...</td>\n",
       "      <td>...</td>\n",
       "      <td>...</td>\n",
       "      <td>...</td>\n",
       "      <td>...</td>\n",
       "      <td>...</td>\n",
       "      <td>...</td>\n",
       "      <td>...</td>\n",
       "      <td>...</td>\n",
       "      <td>...</td>\n",
       "    </tr>\n",
       "    <tr>\n",
       "      <th>1760</th>\n",
       "      <td>False</td>\n",
       "      <td>False</td>\n",
       "      <td>False</td>\n",
       "      <td>False</td>\n",
       "      <td>False</td>\n",
       "      <td>False</td>\n",
       "      <td>False</td>\n",
       "      <td>False</td>\n",
       "      <td>True</td>\n",
       "      <td>True</td>\n",
       "      <td>...</td>\n",
       "      <td>False</td>\n",
       "      <td>False</td>\n",
       "      <td>True</td>\n",
       "      <td>False</td>\n",
       "      <td>False</td>\n",
       "      <td>True</td>\n",
       "      <td>False</td>\n",
       "      <td>True</td>\n",
       "      <td>True</td>\n",
       "      <td>True</td>\n",
       "    </tr>\n",
       "    <tr>\n",
       "      <th>1761</th>\n",
       "      <td>False</td>\n",
       "      <td>False</td>\n",
       "      <td>False</td>\n",
       "      <td>False</td>\n",
       "      <td>False</td>\n",
       "      <td>False</td>\n",
       "      <td>False</td>\n",
       "      <td>False</td>\n",
       "      <td>False</td>\n",
       "      <td>False</td>\n",
       "      <td>...</td>\n",
       "      <td>False</td>\n",
       "      <td>False</td>\n",
       "      <td>True</td>\n",
       "      <td>False</td>\n",
       "      <td>False</td>\n",
       "      <td>True</td>\n",
       "      <td>False</td>\n",
       "      <td>False</td>\n",
       "      <td>True</td>\n",
       "      <td>False</td>\n",
       "    </tr>\n",
       "    <tr>\n",
       "      <th>1762</th>\n",
       "      <td>False</td>\n",
       "      <td>False</td>\n",
       "      <td>False</td>\n",
       "      <td>False</td>\n",
       "      <td>False</td>\n",
       "      <td>False</td>\n",
       "      <td>False</td>\n",
       "      <td>False</td>\n",
       "      <td>False</td>\n",
       "      <td>False</td>\n",
       "      <td>...</td>\n",
       "      <td>False</td>\n",
       "      <td>False</td>\n",
       "      <td>True</td>\n",
       "      <td>False</td>\n",
       "      <td>False</td>\n",
       "      <td>False</td>\n",
       "      <td>False</td>\n",
       "      <td>False</td>\n",
       "      <td>True</td>\n",
       "      <td>False</td>\n",
       "    </tr>\n",
       "    <tr>\n",
       "      <th>1763</th>\n",
       "      <td>False</td>\n",
       "      <td>False</td>\n",
       "      <td>False</td>\n",
       "      <td>False</td>\n",
       "      <td>False</td>\n",
       "      <td>False</td>\n",
       "      <td>False</td>\n",
       "      <td>False</td>\n",
       "      <td>False</td>\n",
       "      <td>False</td>\n",
       "      <td>...</td>\n",
       "      <td>False</td>\n",
       "      <td>False</td>\n",
       "      <td>True</td>\n",
       "      <td>False</td>\n",
       "      <td>False</td>\n",
       "      <td>True</td>\n",
       "      <td>True</td>\n",
       "      <td>False</td>\n",
       "      <td>False</td>\n",
       "      <td>False</td>\n",
       "    </tr>\n",
       "    <tr>\n",
       "      <th>1764</th>\n",
       "      <td>False</td>\n",
       "      <td>False</td>\n",
       "      <td>True</td>\n",
       "      <td>False</td>\n",
       "      <td>True</td>\n",
       "      <td>True</td>\n",
       "      <td>False</td>\n",
       "      <td>False</td>\n",
       "      <td>False</td>\n",
       "      <td>False</td>\n",
       "      <td>...</td>\n",
       "      <td>False</td>\n",
       "      <td>False</td>\n",
       "      <td>True</td>\n",
       "      <td>False</td>\n",
       "      <td>True</td>\n",
       "      <td>True</td>\n",
       "      <td>True</td>\n",
       "      <td>False</td>\n",
       "      <td>True</td>\n",
       "      <td>False</td>\n",
       "    </tr>\n",
       "  </tbody>\n",
       "</table>\n",
       "<p>1765 rows × 170 columns</p>\n",
       "</div>"
      ],
      "text/plain": [
       "      ('P0', 'id')  ('P1', 'age')  ('P2', 'gender')  \\\n",
       "0            False          False             False   \n",
       "1            False          False             False   \n",
       "2            False          False             False   \n",
       "3            False          False             False   \n",
       "4            False          False             False   \n",
       "...            ...            ...               ...   \n",
       "1760         False          False             False   \n",
       "1761         False          False             False   \n",
       "1762         False          False             False   \n",
       "1763         False          False             False   \n",
       "1764         False          False              True   \n",
       "\n",
       "      ('P3', 'living_in_brasil')  ('P5', 'living_state')  \\\n",
       "0                          False                   False   \n",
       "1                          False                   False   \n",
       "2                          False                   False   \n",
       "3                          False                   False   \n",
       "4                          False                    True   \n",
       "...                          ...                     ...   \n",
       "1760                       False                   False   \n",
       "1761                       False                   False   \n",
       "1762                       False                   False   \n",
       "1763                       False                   False   \n",
       "1764                       False                    True   \n",
       "\n",
       "      ('P6', 'born_or_graduated')  ('P8', 'degreee_level')  \\\n",
       "0                           False                    False   \n",
       "1                           False                    False   \n",
       "2                           False                    False   \n",
       "3                           False                    False   \n",
       "4                           False                    False   \n",
       "...                           ...                      ...   \n",
       "1760                        False                    False   \n",
       "1761                        False                    False   \n",
       "1762                        False                    False   \n",
       "1763                        False                    False   \n",
       "1764                         True                    False   \n",
       "\n",
       "      ('P10', 'job_situation')  ('P12', 'workers_number')  ('P13', 'manager')  \\\n",
       "0                        False                      False               False   \n",
       "1                        False                      False               False   \n",
       "2                        False                      False               False   \n",
       "3                        False                      False               False   \n",
       "4                        False                      False               False   \n",
       "...                        ...                        ...                 ...   \n",
       "1760                     False                       True                True   \n",
       "1761                     False                      False               False   \n",
       "1762                     False                      False               False   \n",
       "1763                     False                      False               False   \n",
       "1764                     False                      False               False   \n",
       "\n",
       "      ...  ('P34', 'other')  ('P35', 'data_science_plataforms_preference')  \\\n",
       "0     ...             False                                          False   \n",
       "1     ...             False                                           True   \n",
       "2     ...             False                                          False   \n",
       "3     ...             False                                          False   \n",
       "4     ...             False                                          False   \n",
       "...   ...               ...                                            ...   \n",
       "1760  ...             False                                          False   \n",
       "1761  ...             False                                          False   \n",
       "1762  ...             False                                          False   \n",
       "1763  ...             False                                          False   \n",
       "1764  ...             False                                          False   \n",
       "\n",
       "      ('P35', 'other')  ('P36', 'draw_participation')  \\\n",
       "0                 True                          False   \n",
       "1                False                          False   \n",
       "2                 True                          False   \n",
       "3                 True                          False   \n",
       "4                 True                          False   \n",
       "...                ...                            ...   \n",
       "1760              True                          False   \n",
       "1761              True                          False   \n",
       "1762              True                          False   \n",
       "1763              True                          False   \n",
       "1764              True                          False   \n",
       "\n",
       "      ('D1', 'living_macroregion')  ('D2', 'origin_macroregion')  \\\n",
       "0                            False                          True   \n",
       "1                            False                          True   \n",
       "2                            False                          True   \n",
       "3                            False                         False   \n",
       "4                             True                          True   \n",
       "...                            ...                           ...   \n",
       "1760                         False                          True   \n",
       "1761                         False                          True   \n",
       "1762                         False                         False   \n",
       "1763                         False                          True   \n",
       "1764                          True                          True   \n",
       "\n",
       "      ('D3', 'anonymized_degree_area')  ('D4', 'anonymized_market_sector')  \\\n",
       "0                                False                               False   \n",
       "1                                False                               False   \n",
       "2                                False                               False   \n",
       "3                                False                               False   \n",
       "4                                False                               False   \n",
       "...                                ...                                 ...   \n",
       "1760                             False                                True   \n",
       "1761                             False                               False   \n",
       "1762                             False                               False   \n",
       "1763                              True                               False   \n",
       "1764                              True                               False   \n",
       "\n",
       "      ('D5', 'anonymized_manager_level')  ('D6', 'anonymized_role')  \n",
       "0                                   True                      False  \n",
       "1                                   True                      False  \n",
       "2                                   True                      False  \n",
       "3                                   True                      False  \n",
       "4                                  False                       True  \n",
       "...                                  ...                        ...  \n",
       "1760                                True                       True  \n",
       "1761                                True                      False  \n",
       "1762                                True                      False  \n",
       "1763                               False                      False  \n",
       "1764                                True                      False  \n",
       "\n",
       "[1765 rows x 170 columns]"
      ]
     },
     "execution_count": 224,
     "metadata": {},
     "output_type": "execute_result"
    }
   ],
   "source": [
    "analisando.isnull()"
   ]
  },
  {
   "cell_type": "markdown",
   "id": "0dc84b91",
   "metadata": {},
   "source": [
    "##### Mostrando todoas as colunas no DataFrame"
   ]
  },
  {
   "cell_type": "code",
   "execution_count": 225,
   "id": "0abb253e",
   "metadata": {},
   "outputs": [
    {
     "data": {
      "text/plain": [
       "[\"('P0', 'id')\",\n",
       " \"('P1', 'age')\",\n",
       " \"('P2', 'gender')\",\n",
       " \"('P3', 'living_in_brasil')\",\n",
       " \"('P5', 'living_state')\",\n",
       " \"('P6', 'born_or_graduated')\",\n",
       " \"('P8', 'degreee_level')\",\n",
       " \"('P10', 'job_situation')\",\n",
       " \"('P12', 'workers_number')\",\n",
       " \"('P13', 'manager')\",\n",
       " \"('P16', 'salary_range')\",\n",
       " \"('P17', 'time_experience_data_science')\",\n",
       " \"('P18', 'time_experience_before')\",\n",
       " \"('P19', 'is_data_science_professional')\",\n",
       " \"('P20', 'linear_regression')\",\n",
       " \"('P20', 'logistic_regression')\",\n",
       " \"('P20', 'glms')\",\n",
       " \"('P20', 'decision_tree')\",\n",
       " \"('P20', 'random_forest')\",\n",
       " \"('P20', 'neural_networks')\",\n",
       " \"('P20', 'bayesian_inference')\",\n",
       " \"('P20', 'ensemble')\",\n",
       " \"('P20', 'svms')\",\n",
       " \"('P20', 'cnns')\",\n",
       " \"('P20', 'rnns')\",\n",
       " \"('P20', 'hmms')\",\n",
       " \"('P20', 'gans')\",\n",
       " \"('P20', 'markov_chains')\",\n",
       " \"('P20', 'nlp')\",\n",
       " \"('P20', 'gradient_boosted_machines')\",\n",
       " \"('P20', 'cluster_analysis')\",\n",
       " \"('P20', 'survival_analysis')\",\n",
       " \"('P20', 'longitudinal_data_analysis')\",\n",
       " \"('P20', 'joint analysis')\",\n",
       " \"('P20', 'no_listed_methods')\",\n",
       " \"('P21', 'sql_')\",\n",
       " \"('P21', 'r')\",\n",
       " \"('P21', 'python')\",\n",
       " \"('P21', 'c_c++_c#')\",\n",
       " \"('P21', 'dotnet')\",\n",
       " \"('P21', 'java')\",\n",
       " \"('P21', 'julia')\",\n",
       " \"('P21', 'sas_stata')\",\n",
       " \"('P21', 'visual_basic_vba')\",\n",
       " \"('P21', 'scala')\",\n",
       " \"('P21', 'matlab')\",\n",
       " \"('P21', 'php')\",\n",
       " \"('P21', 'no_listed_languages')\",\n",
       " \"('P22', 'most_used_proggraming_languages')\",\n",
       " \"('P23', 'sql')\",\n",
       " \"('P23', 'nosql')\",\n",
       " \"('P23', 'images')\",\n",
       " \"('P23', 'nlp')\",\n",
       " \"('P23', 'videos')\",\n",
       " \"('P23', 'sheets')\",\n",
       " \"('P23', 'other')\",\n",
       " \"('P24', 'sql')\",\n",
       " \"('P24', 'nosql')\",\n",
       " \"('P24', 'imagens')\",\n",
       " \"('P24', 'nlp')\",\n",
       " \"('P24', 'vídeos')\",\n",
       " \"('P24', 'planilhas')\",\n",
       " \"('P24', 'other')\",\n",
       " \"('P25', 'aws')\",\n",
       " \"('P25', 'gcp')\",\n",
       " \"('P25', 'azure')\",\n",
       " \"('P25', 'ibm')\",\n",
       " \"('P25', 'on_premise_servers')\",\n",
       " \"('P25', 'cloud_própria')\",\n",
       " \"('P25', 'other')\",\n",
       " \"('P26', 'mysql')\",\n",
       " \"('P26', 'oracle')\",\n",
       " \"('P26', 'sql_server')\",\n",
       " \"('P26', 'aurora')\",\n",
       " \"('P26', 'dynamodb')\",\n",
       " \"('P26', 'coachdb')\",\n",
       " \"('P26', 'cassandra')\",\n",
       " \"('P26', 'mongodb')\",\n",
       " \"('P26', 'mariadb')\",\n",
       " \"('P26', 'datomic')\",\n",
       " \"('P26', 's3')\",\n",
       " \"('P26', 'postgresql')\",\n",
       " \"('P26', 'elaticsearch')\",\n",
       " \"('P26', 'db2')\",\n",
       " \"('P26', 'ms_access')\",\n",
       " \"('P26', 'sqlite')\",\n",
       " \"('P26', 'sybase')\",\n",
       " \"('P26', 'firebase')\",\n",
       " \"('P26', 'vertica')\",\n",
       " \"('P26', 'redis')\",\n",
       " \"('P26', 'neo4j')\",\n",
       " \"('P26', 'google_bigtable')\",\n",
       " \"('P26', 'hbase')\",\n",
       " \"('P26', 'other')\",\n",
       " \"('P27', 'microsoft_powerbi')\",\n",
       " \"('P27', 'qlik_view_qlik_sense')\",\n",
       " \"('P27', 'tableau')\",\n",
       " \"('P27', 'metabase')\",\n",
       " \"('P27', 'superset')\",\n",
       " \"('P27', 'redash')\",\n",
       " \"('P27', 'microstrategy')\",\n",
       " \"('P27', 'ibm_analytics_cognos')\",\n",
       " \"('P27', 'sap_business_objects')\",\n",
       " \"('P27', 'oracle_business_intelligence')\",\n",
       " \"('P27', 'birst')\",\n",
       " \"('P27', 'looker')\",\n",
       " \"('P27', 'google_data_studio')\",\n",
       " \"('P27', 'only_excel_gsheets')\",\n",
       " \"('P27', 'no_bi_tool_at_work')\",\n",
       " \"('P27', 'other')\",\n",
       " \"('P28', 'sql_&_stored_procedures')\",\n",
       " \"('P28', 'apache_airflow')\",\n",
       " \"('P28', 'luigi')\",\n",
       " \"('P28', 'aws_glue')\",\n",
       " \"('P28', 'talend')\",\n",
       " \"('P28', 'pentaho')\",\n",
       " \"('P28', 'alteryx')\",\n",
       " \"('P28', 'oracle_data_integrator')\",\n",
       " \"('P28', 'ibm_data_stage')\",\n",
       " \"('P28', 'sap_bw_etl')\",\n",
       " \"('P28', 'siss_sql_server_integration_services')\",\n",
       " \"('P28', 'other')\",\n",
       " \"('P29', 'have_data_warehouse')\",\n",
       " \"('P30', 'google_bigquery')\",\n",
       " \"('P30', 'aws_redshift')\",\n",
       " \"('P30', 'snowflake')\",\n",
       " \"('P30', 'oracle')\",\n",
       " \"('P30', 'postgres_mysql')\",\n",
       " \"('P30', 'ibm')\",\n",
       " \"('P30', 'teradata')\",\n",
       " \"('P30', 'microsoft_azure')\",\n",
       " \"('P30', 'do_not_know')\",\n",
       " \"('P30', 'other')\",\n",
       " \"('P31', 'data_hackers_blog')\",\n",
       " \"('P31', 'data_hackers_podcast')\",\n",
       " \"('P31', 'weekly_newsletter')\",\n",
       " \"('P31', 'slack_channel')\",\n",
       " \"('P31', 'data_hackers_bootcamp')\",\n",
       " \"('P31', 'do_not_know_data_hackers')\",\n",
       " \"('P32', 'prefered_data_hackers_initiative')\",\n",
       " \"('P33', 'telegram_groups')\",\n",
       " \"('P33', 'whatsapp_groups')\",\n",
       " \"('P33', 'youtube_channels')\",\n",
       " \"('P33', 'other_brasilian_blogs')\",\n",
       " \"('P33', 'other_slack_channels')\",\n",
       " \"('P33', 'twitter')\",\n",
       " \"('P33', 'abroad_blogs')\",\n",
       " \"('P33', 'abroad_podcasts')\",\n",
       " \"('P33', 'meetups_and_events')\",\n",
       " \"('P33', 'only_data_hackers')\",\n",
       " \"('P33', 'other')\",\n",
       " \"('P34', 'udacity')\",\n",
       " \"('P34', 'coursera')\",\n",
       " \"('P34', 'udemy')\",\n",
       " \"('P34', 'height')\",\n",
       " \"('P34', 'edx')\",\n",
       " \"('P34', 'data_camp')\",\n",
       " \"('P34', 'data_quest')\",\n",
       " \"('P34', 'kaggle_learn')\",\n",
       " \"('P34', 'online_courses')\",\n",
       " \"('P34', 'other')\",\n",
       " \"('P35', 'data_science_plataforms_preference')\",\n",
       " \"('P35', 'other')\",\n",
       " \"('P36', 'draw_participation')\",\n",
       " \"('D1', 'living_macroregion')\",\n",
       " \"('D2', 'origin_macroregion')\",\n",
       " \"('D3', 'anonymized_degree_area')\",\n",
       " \"('D4', 'anonymized_market_sector')\",\n",
       " \"('D5', 'anonymized_manager_level')\",\n",
       " \"('D6', 'anonymized_role')\"]"
      ]
     },
     "execution_count": 225,
     "metadata": {},
     "output_type": "execute_result"
    }
   ],
   "source": [
    "list(analisando.columns.values)"
   ]
  },
  {
   "cell_type": "markdown",
   "id": "e1c8fdef",
   "metadata": {},
   "source": [
    "###### Somando os valores vazios."
   ]
  },
  {
   "cell_type": "code",
   "execution_count": 226,
   "id": "99378407",
   "metadata": {},
   "outputs": [
    {
     "data": {
      "text/plain": [
       "('P0', 'id')                             0\n",
       "('P1', 'age')                           24\n",
       "('P2', 'gender')                         3\n",
       "('P3', 'living_in_brasil')               0\n",
       "('P5', 'living_state')                 337\n",
       "                                      ... \n",
       "('D2', 'origin_macroregion')          1440\n",
       "('D3', 'anonymized_degree_area')        35\n",
       "('D4', 'anonymized_market_sector')     243\n",
       "('D5', 'anonymized_manager_level')    1460\n",
       "('D6', 'anonymized_role')              514\n",
       "Length: 170, dtype: int64"
      ]
     },
     "execution_count": 226,
     "metadata": {},
     "output_type": "execute_result"
    }
   ],
   "source": [
    "analisando.isnull().sum()"
   ]
  },
  {
   "cell_type": "markdown",
   "id": "0f284c40",
   "metadata": {},
   "source": [
    "###### Filtrando colunas somente \"True\", ou seja, valores vazios\n"
   ]
  },
  {
   "cell_type": "code",
   "execution_count": 227,
   "id": "346f1a88",
   "metadata": {},
   "outputs": [
    {
     "data": {
      "text/plain": [
       "('P2', 'gender')                                    3\n",
       "('P36', 'draw_participation')                       4\n",
       "('P1', 'age')                                      24\n",
       "('P6', 'born_or_graduated')                        34\n",
       "('D3', 'anonymized_degree_area')                   35\n",
       "('P35', 'data_science_plataforms_preference')     140\n",
       "('P12', 'workers_number')                         238\n",
       "('P13', 'manager')                                238\n",
       "('P16', 'salary_range')                           238\n",
       "('D4', 'anonymized_market_sector')                243\n",
       "('P5', 'living_state')                            337\n",
       "('D1', 'living_macroregion')                      337\n",
       "('D6', 'anonymized_role')                         514\n",
       "('P22', 'most_used_proggraming_languages')        859\n",
       "('P29', 'have_data_warehouse')                    972\n",
       "('D2', 'origin_macroregion')                     1440\n",
       "('D5', 'anonymized_manager_level')               1460\n",
       "('P35', 'other')                                 1625\n",
       "dtype: int64"
      ]
     },
     "execution_count": 227,
     "metadata": {},
     "output_type": "execute_result"
    }
   ],
   "source": [
    "analisando.isnull().sum()[analisando.isnull().sum() !=0].sort_values() "
   ]
  },
  {
   "cell_type": "markdown",
   "id": "4654877a",
   "metadata": {},
   "source": [
    "###### Analisando a faixa salarial por profissão."
   ]
  },
  {
   "cell_type": "code",
   "execution_count": 228,
   "id": "3af09c9b",
   "metadata": {},
   "outputs": [
    {
     "data": {
      "text/plain": [
       "de R$ 4.001/mês a R$ 6.000/mês      308\n",
       "de R$ 8.001/mês a R$ 12.000/mês     237\n",
       "de R$ 6.001/mês a R$ 8.000/mês      229\n",
       "de R$ 3.001/mês a R$ 4.000/mês      219\n",
       "de R$ 1.001/mês a R$ 2.000/mês      181\n",
       "de R$ 2.001/mês a R$ 3000/mês       150\n",
       "de R$ 12.001/mês a R$ 16.000/mês     82\n",
       "Menos de R$ 1.000/mês                48\n",
       "de R$ 16.001/mês a R$ 20.000/mês     45\n",
       "de R$ 20.001/mês a R$ 25.000/mês     15\n",
       "Acima de R$ 25.001/mês               13\n",
       "Name: ('P16', 'salary_range'), dtype: int64"
      ]
     },
     "execution_count": 228,
     "metadata": {},
     "output_type": "execute_result"
    }
   ],
   "source": [
    "analisando[\"('P16', 'salary_range')\"].value_counts() "
   ]
  },
  {
   "cell_type": "markdown",
   "id": "7eb079b0",
   "metadata": {},
   "source": [
    "###### Revisando a tabela média salarial com variáveis mais concretas. Pois leva a uma resposta mais precisa."
   ]
  },
  {
   "cell_type": "code",
   "execution_count": 229,
   "id": "539b7a0c",
   "metadata": {},
   "outputs": [
    {
     "data": {
      "text/plain": [
       "7154.85"
      ]
     },
     "execution_count": 229,
     "metadata": {},
     "output_type": "execute_result"
    }
   ],
   "source": [
    "salario_media = {\n",
    "    'de R$ 1.001/mês a R$ 2.000/mês':1000,\n",
    "    'de R$ 1.001/mês a R$ 2.000/mês': 1500,\n",
    "    'de R$ 2.001/mês a R$ 3000/mês ':2500,\n",
    "    'de R$ 3.001/mês a R$ 4.000/mês':3500,\n",
    "    'de R$ 4.001/mês a R$ 6.000/mês':5000,\n",
    "    'de R$ 6.001/mês a R$ 8.000/mês':7000,\n",
    "    'de R$ 12.001/mês a R$ 16.000/mês':14000,\n",
    "    'de R$ 16.001/mês a R$ 20.000/mês':18000,\n",
    "    'de R$ 20.001/mês a R$ 25.000/mês':22000,\n",
    "    'Acima de R$ 25.001/mês':25000   \n",
    "}\n",
    "\n",
    "analisando['salario'] = analisando[\"('P16', 'salary_range')\"].map(salario_media) # calculando o salario médio do DS\n",
    "\n",
    "round(analisando['salario'].mean() * 1.15, 2)  #(1.15-variação da infração nos últimos dois anos.)"
   ]
  },
  {
   "cell_type": "markdown",
   "id": "6d308d13",
   "metadata": {},
   "source": [
    "##### Filtrando as profissões assinalados pelos profissionais"
   ]
  },
  {
   "cell_type": "code",
   "execution_count": 230,
   "id": "8600bccc",
   "metadata": {},
   "outputs": [
    {
     "data": {
      "text/plain": [
       "Desenvolvedor ou Engenheiro de Software    225\n",
       "Outras                                     220\n",
       "Data Scientist/Cientista de Dados          167\n",
       "Data Analyst/Analista de Dados             163\n",
       "Business Intelligence/Analista de BI       150\n",
       "Data Engineer/Engenheiro de Dados          130\n",
       "Business Analyst/Analista de Negócios       72\n",
       "Analista de Inteligência de Mercado         29\n",
       "Engenheiro                                  26\n",
       "Analista de Marketing                       19\n",
       "Engenheiro de Machine Learning              15\n",
       "DBA/Administrador de Banco de Dados         14\n",
       "Estatístico                                 11\n",
       "Economista                                  10\n",
       "Name: ('D6', 'anonymized_role'), dtype: int64"
      ]
     },
     "execution_count": 230,
     "metadata": {},
     "output_type": "execute_result"
    }
   ],
   "source": [
    "analisando[\"('D6', 'anonymized_role')\"].value_counts()"
   ]
  },
  {
   "cell_type": "markdown",
   "id": "3e4cce54",
   "metadata": {},
   "source": [
    "###### Agrupando profissões"
   ]
  },
  {
   "cell_type": "code",
   "execution_count": 231,
   "id": "364c9b12",
   "metadata": {},
   "outputs": [
    {
     "data": {
      "text/plain": [
       "Outras                                  249\n",
       "Desenvolvedor/Engenheiro de Software    225\n",
       "Analista de BI                          222\n",
       "Cientista de Dados                      178\n",
       "Analista de Dados                       163\n",
       "Engenheiro de Dados                     144\n",
       "Name: profissao, dtype: int64"
      ]
     },
     "execution_count": 231,
     "metadata": {},
     "output_type": "execute_result"
    }
   ],
   "source": [
    "agrupamento_profissao = {\n",
    "    'Desenvolvedor ou Engenheiro de Software':'Desenvolvedor/Engenheiro de Software',\n",
    "    'Outras': 'Outras',\n",
    "    'Data Scientist/Cientista de Dados': 'Cientista de Dados',\n",
    "    'Data Analyst/Analista de Dados': 'Analista de Dados ',\n",
    "    'Business Intelligence/Analista de BI':'Analista de BI',\n",
    "    'Data Engineer/Engenheiro de Dados':'Engenheiro de Dados',\n",
    "    'Business Analyst/Analista de Negócios': 'Analista de BI',\n",
    "    'Analista de Inteligência de Mercado ':'Analista de BI',\n",
    "    'Engenheiro ':'Outras',\n",
    "    'Analista de Marketing': 'Outras',\n",
    "    'Engenheiro de Machine Learning ':'Cientista de Dados',\n",
    "    'DBA/Administrador de Banco de Dados':'Engenheiro de Dados',\n",
    "    'Estatístico': 'Cientista de Dados',\n",
    "    'Economista': 'Outras'    \n",
    "}\n",
    "analisando['profissao'] = analisando[\"('D6', 'anonymized_role')\"].map(agrupamento_profissao)\n",
    "analisando['profissao'].value_counts()"
   ]
  },
  {
   "cell_type": "code",
   "execution_count": 232,
   "id": "cbc95dd8",
   "metadata": {},
   "outputs": [],
   "source": [
    "#analisando['se_considera_ds'] = analisando[\"('P19', \\'is_data_science_professional\\')\"].map({0: 'não', 1:'sim'})\n",
    "#analisando['se_considera_ds'].value_counts().plot(kind='barh', title = 'Profissionais por Área')"
   ]
  },
  {
   "cell_type": "markdown",
   "id": "1a65c153",
   "metadata": {},
   "source": [
    "###### Visualização em gráfico por profissão"
   ]
  },
  {
   "cell_type": "code",
   "execution_count": 233,
   "id": "51acf058",
   "metadata": {},
   "outputs": [
    {
     "data": {
      "text/plain": [
       "<AxesSubplot:title={'center':'Profissionais por Área'}>"
      ]
     },
     "execution_count": 233,
     "metadata": {},
     "output_type": "execute_result"
    },
    {
     "data": {
      "image/png": "[encoded data removed]",
      "text/plain": [
       "<Figure size 432x288 with 1 Axes>"
      ]
     },
     "metadata": {
      "needs_background": "light"
     },
     "output_type": "display_data"
    }
   ],
   "source": [
    "analisando['profissao'].value_counts().plot(kind='barh', title = 'Profissionais por Área')"
   ]
  },
  {
   "cell_type": "markdown",
   "id": "fd226fae",
   "metadata": {},
   "source": [
    "###### Analisando salário médio de cada profissão"
   ]
  },
  {
   "cell_type": "code",
   "execution_count": 234,
   "id": "9f7403ff",
   "metadata": {},
   "outputs": [
    {
     "data": {
      "text/plain": [
       "profissao\n",
       "Analista de BI                          5446.40\n",
       "Analista de Dados                       5400.40\n",
       "Cientista de Dados                      7717.65\n",
       "Desenvolvedor/Engenheiro de Software    5817.85\n",
       "Engenheiro de Dados                     8918.25\n",
       "Outras                                  5406.15\n",
       "Name: salario, dtype: float64"
      ]
     },
     "execution_count": 234,
     "metadata": {},
     "output_type": "execute_result"
    }
   ],
   "source": [
    "analisando.groupby('profissao').mean().round()['salario'] * 1.15 # 1.15 é com base na infração nos ultimos anos\n"
   ]
  },
  {
   "cell_type": "markdown",
   "id": "7960c3d4",
   "metadata": {},
   "source": [
    "###### Analisando a Idade média por profissão"
   ]
  },
  {
   "cell_type": "code",
   "execution_count": 235,
   "id": "10209fb5",
   "metadata": {},
   "outputs": [
    {
     "name": "stdout",
     "output_type": "stream",
     "text": [
      "profissao\n",
      "Analista de BI                          29.0\n",
      "Analista de Dados                       29.0\n",
      "Cientista de Dados                      28.0\n",
      "Desenvolvedor/Engenheiro de Software    29.0\n",
      "Engenheiro de Dados                     29.0\n",
      "Outras                                  30.0\n",
      "Name: ('P1', 'age'), dtype: float64\n"
     ]
    }
   ],
   "source": [
    "print(analisando.groupby('profissao').mean().round(0)[\"('P1', 'age')\"])"
   ]
  },
  {
   "cell_type": "markdown",
   "id": "8e7a977b",
   "metadata": {},
   "source": [
    "###### Analisando Homens e mulheres por salários"
   ]
  },
  {
   "cell_type": "code",
   "execution_count": 236,
   "id": "527d1ebd",
   "metadata": {},
   "outputs": [
    {
     "data": {
      "text/plain": [
       "sexo\n",
       "Feminino     5351.758794\n",
       "Masculino    6415.453527\n",
       "Name: salario, dtype: float64"
      ]
     },
     "execution_count": 236,
     "metadata": {},
     "output_type": "execute_result"
    }
   ],
   "source": [
    "analisando['sexo'] = analisando[\"('P2', 'gender')\"]\n",
    "analisando.groupby('sexo').mean()['salario']"
   ]
  },
  {
   "cell_type": "markdown",
   "id": "a4ed77dc",
   "metadata": {},
   "source": [
    "###### Mostrando o salário por sexo em gráfico"
   ]
  },
  {
   "cell_type": "code",
   "execution_count": 237,
   "id": "5385dd57",
   "metadata": {},
   "outputs": [
    {
     "data": {
      "text/plain": [
       "<AxesSubplot:title={'center':'Sexo vs Salário'}, xlabel='sexo'>"
      ]
     },
     "execution_count": 237,
     "metadata": {},
     "output_type": "execute_result"
    },
    {
     "data": {
      "image/png": "[encoded data removed]",
      "text/plain": [
       "<Figure size 432x288 with 1 Axes>"
      ]
     },
     "metadata": {
      "needs_background": "light"
     },
     "output_type": "display_data"
    }
   ],
   "source": [
    "analisando.groupby(['sexo']).mean()['salario'].plot(kind='bar', title ='Sexo vs Salário')"
   ]
  },
  {
   "cell_type": "markdown",
   "id": "ffe8259a",
   "metadata": {},
   "source": [
    "##### Analisando a quantidade de profissional por tamanho de empresa e media salárial"
   ]
  },
  {
   "cell_type": "code",
   "execution_count": 238,
   "id": "500d7b1b",
   "metadata": {},
   "outputs": [],
   "source": [
    "#Como as idades estão em valores numericos, categorizando os dados ficará melhor para análise.\n",
    "#Então inserimos uma nova coluna e agrupamos o tamanho da empresa. Aplicando a função map()\n",
    "tam_empresa = {\n",
    "    'de 1 a 5': 'Pequena',\n",
    "    'de 6 a 10':'Pequena',\n",
    "    'de 11 a 50':'Pequena',\n",
    "    'de 51 a 100':'Pequena',\n",
    "    'de 101 a 500': 'Média',\n",
    "    'de 501 a 1000': 'Média',\n",
    "    'de 1001 a 3000':'Grande',\n",
    "    'Acima de 3000':'Grande'\n",
    "}\n",
    "\n",
    "analisando['Tamanho_empresa'] = analisando[\"('P12', 'workers_number')\"].map(tam_empresa)\n"
   ]
  },
  {
   "cell_type": "markdown",
   "id": "883f6575",
   "metadata": {},
   "source": [
    "###### As maiores empresas pagam mais!"
   ]
  },
  {
   "cell_type": "code",
   "execution_count": 239,
   "id": "4a00be5d",
   "metadata": {},
   "outputs": [
    {
     "data": {
      "text/plain": [
       "Tamanho_empresa\n",
       "Grande     6982.0\n",
       "Média      6114.0\n",
       "Pequena    5398.0\n",
       "Name: salario, dtype: float64"
      ]
     },
     "execution_count": 239,
     "metadata": {},
     "output_type": "execute_result"
    }
   ],
   "source": [
    "analisando.groupby(['Tamanho_empresa']).mean()['salario'].round() #salário por tamnho de empresa"
   ]
  },
  {
   "cell_type": "code",
   "execution_count": 240,
   "id": "1f55b728",
   "metadata": {},
   "outputs": [
    {
     "data": {
      "text/html": [
       "<div>\n",
       "<style scoped>\n",
       "    .dataframe tbody tr th:only-of-type {\n",
       "        vertical-align: middle;\n",
       "    }\n",
       "\n",
       "    .dataframe tbody tr th {\n",
       "        vertical-align: top;\n",
       "    }\n",
       "\n",
       "    .dataframe thead th {\n",
       "        text-align: right;\n",
       "    }\n",
       "</style>\n",
       "<table border=\"1\" class=\"dataframe\">\n",
       "  <thead>\n",
       "    <tr style=\"text-align: right;\">\n",
       "      <th></th>\n",
       "      <th>('P1', 'age')</th>\n",
       "      <th>('P3', 'living_in_brasil')</th>\n",
       "      <th>('P6', 'born_or_graduated')</th>\n",
       "      <th>('P13', 'manager')</th>\n",
       "      <th>('P19', 'is_data_science_professional')</th>\n",
       "      <th>('P20', 'linear_regression')</th>\n",
       "      <th>('P20', 'logistic_regression')</th>\n",
       "      <th>('P20', 'glms')</th>\n",
       "      <th>('P20', 'decision_tree')</th>\n",
       "      <th>('P20', 'random_forest')</th>\n",
       "      <th>...</th>\n",
       "      <th>('P34', 'udemy')</th>\n",
       "      <th>('P34', 'height')</th>\n",
       "      <th>('P34', 'edx')</th>\n",
       "      <th>('P34', 'data_camp')</th>\n",
       "      <th>('P34', 'data_quest')</th>\n",
       "      <th>('P34', 'kaggle_learn')</th>\n",
       "      <th>('P34', 'online_courses')</th>\n",
       "      <th>('P34', 'other')</th>\n",
       "      <th>('P36', 'draw_participation')</th>\n",
       "      <th>salario</th>\n",
       "    </tr>\n",
       "    <tr>\n",
       "      <th>profissao</th>\n",
       "      <th></th>\n",
       "      <th></th>\n",
       "      <th></th>\n",
       "      <th></th>\n",
       "      <th></th>\n",
       "      <th></th>\n",
       "      <th></th>\n",
       "      <th></th>\n",
       "      <th></th>\n",
       "      <th></th>\n",
       "      <th></th>\n",
       "      <th></th>\n",
       "      <th></th>\n",
       "      <th></th>\n",
       "      <th></th>\n",
       "      <th></th>\n",
       "      <th></th>\n",
       "      <th></th>\n",
       "      <th></th>\n",
       "      <th></th>\n",
       "      <th></th>\n",
       "    </tr>\n",
       "  </thead>\n",
       "  <tbody>\n",
       "    <tr>\n",
       "      <th>Analista de BI</th>\n",
       "      <td>29.456621</td>\n",
       "      <td>0.995495</td>\n",
       "      <td>0.868778</td>\n",
       "      <td>0.036036</td>\n",
       "      <td>0.450450</td>\n",
       "      <td>0.180180</td>\n",
       "      <td>0.103604</td>\n",
       "      <td>0.018018</td>\n",
       "      <td>0.135135</td>\n",
       "      <td>0.049550</td>\n",
       "      <td>...</td>\n",
       "      <td>0.729730</td>\n",
       "      <td>0.207207</td>\n",
       "      <td>0.112613</td>\n",
       "      <td>0.139640</td>\n",
       "      <td>0.040541</td>\n",
       "      <td>0.162162</td>\n",
       "      <td>0.081081</td>\n",
       "      <td>0.180180</td>\n",
       "      <td>0.864865</td>\n",
       "      <td>4736.363636</td>\n",
       "    </tr>\n",
       "    <tr>\n",
       "      <th>Analista de Dados</th>\n",
       "      <td>28.840491</td>\n",
       "      <td>0.993865</td>\n",
       "      <td>0.839506</td>\n",
       "      <td>0.018405</td>\n",
       "      <td>0.803681</td>\n",
       "      <td>0.361963</td>\n",
       "      <td>0.300613</td>\n",
       "      <td>0.055215</td>\n",
       "      <td>0.276074</td>\n",
       "      <td>0.214724</td>\n",
       "      <td>...</td>\n",
       "      <td>0.742331</td>\n",
       "      <td>0.171779</td>\n",
       "      <td>0.134969</td>\n",
       "      <td>0.220859</td>\n",
       "      <td>0.036810</td>\n",
       "      <td>0.208589</td>\n",
       "      <td>0.061350</td>\n",
       "      <td>0.177914</td>\n",
       "      <td>0.833333</td>\n",
       "      <td>4695.833333</td>\n",
       "    </tr>\n",
       "    <tr>\n",
       "      <th>Cientista de Dados</th>\n",
       "      <td>28.209040</td>\n",
       "      <td>0.977528</td>\n",
       "      <td>0.678161</td>\n",
       "      <td>0.000000</td>\n",
       "      <td>0.960674</td>\n",
       "      <td>0.769663</td>\n",
       "      <td>0.685393</td>\n",
       "      <td>0.303371</td>\n",
       "      <td>0.679775</td>\n",
       "      <td>0.657303</td>\n",
       "      <td>...</td>\n",
       "      <td>0.668539</td>\n",
       "      <td>0.140449</td>\n",
       "      <td>0.314607</td>\n",
       "      <td>0.404494</td>\n",
       "      <td>0.044944</td>\n",
       "      <td>0.303371</td>\n",
       "      <td>0.050562</td>\n",
       "      <td>0.050562</td>\n",
       "      <td>0.702247</td>\n",
       "      <td>6710.937500</td>\n",
       "    </tr>\n",
       "    <tr>\n",
       "      <th>Desenvolvedor/Engenheiro de Software</th>\n",
       "      <td>29.153153</td>\n",
       "      <td>0.995556</td>\n",
       "      <td>0.812500</td>\n",
       "      <td>0.022222</td>\n",
       "      <td>0.262222</td>\n",
       "      <td>0.124444</td>\n",
       "      <td>0.071111</td>\n",
       "      <td>0.008889</td>\n",
       "      <td>0.120000</td>\n",
       "      <td>0.075556</td>\n",
       "      <td>...</td>\n",
       "      <td>0.591111</td>\n",
       "      <td>0.235556</td>\n",
       "      <td>0.137778</td>\n",
       "      <td>0.191111</td>\n",
       "      <td>0.031111</td>\n",
       "      <td>0.200000</td>\n",
       "      <td>0.088889</td>\n",
       "      <td>0.106667</td>\n",
       "      <td>0.861607</td>\n",
       "      <td>5058.823529</td>\n",
       "    </tr>\n",
       "    <tr>\n",
       "      <th>Engenheiro de Dados</th>\n",
       "      <td>29.157143</td>\n",
       "      <td>0.958333</td>\n",
       "      <td>0.818841</td>\n",
       "      <td>0.034722</td>\n",
       "      <td>0.680556</td>\n",
       "      <td>0.270833</td>\n",
       "      <td>0.145833</td>\n",
       "      <td>0.013889</td>\n",
       "      <td>0.180556</td>\n",
       "      <td>0.159722</td>\n",
       "      <td>...</td>\n",
       "      <td>0.673611</td>\n",
       "      <td>0.256944</td>\n",
       "      <td>0.104167</td>\n",
       "      <td>0.180556</td>\n",
       "      <td>0.034722</td>\n",
       "      <td>0.090278</td>\n",
       "      <td>0.097222</td>\n",
       "      <td>0.083333</td>\n",
       "      <td>0.868056</td>\n",
       "      <td>7755.102041</td>\n",
       "    </tr>\n",
       "    <tr>\n",
       "      <th>Outras</th>\n",
       "      <td>30.115226</td>\n",
       "      <td>0.983936</td>\n",
       "      <td>0.808163</td>\n",
       "      <td>0.028112</td>\n",
       "      <td>0.160643</td>\n",
       "      <td>0.072289</td>\n",
       "      <td>0.052209</td>\n",
       "      <td>0.000000</td>\n",
       "      <td>0.060241</td>\n",
       "      <td>0.044177</td>\n",
       "      <td>...</td>\n",
       "      <td>0.610442</td>\n",
       "      <td>0.144578</td>\n",
       "      <td>0.156627</td>\n",
       "      <td>0.164659</td>\n",
       "      <td>0.040161</td>\n",
       "      <td>0.120482</td>\n",
       "      <td>0.140562</td>\n",
       "      <td>0.148594</td>\n",
       "      <td>0.835341</td>\n",
       "      <td>4700.549451</td>\n",
       "    </tr>\n",
       "  </tbody>\n",
       "</table>\n",
       "<p>6 rows × 152 columns</p>\n",
       "</div>"
      ],
      "text/plain": [
       "                                      ('P1', 'age')  \\\n",
       "profissao                                             \n",
       "Analista de BI                            29.456621   \n",
       "Analista de Dados                         28.840491   \n",
       "Cientista de Dados                        28.209040   \n",
       "Desenvolvedor/Engenheiro de Software      29.153153   \n",
       "Engenheiro de Dados                       29.157143   \n",
       "Outras                                    30.115226   \n",
       "\n",
       "                                      ('P3', 'living_in_brasil')  \\\n",
       "profissao                                                          \n",
       "Analista de BI                                          0.995495   \n",
       "Analista de Dados                                       0.993865   \n",
       "Cientista de Dados                                      0.977528   \n",
       "Desenvolvedor/Engenheiro de Software                    0.995556   \n",
       "Engenheiro de Dados                                     0.958333   \n",
       "Outras                                                  0.983936   \n",
       "\n",
       "                                      ('P6', 'born_or_graduated')  \\\n",
       "profissao                                                           \n",
       "Analista de BI                                           0.868778   \n",
       "Analista de Dados                                        0.839506   \n",
       "Cientista de Dados                                       0.678161   \n",
       "Desenvolvedor/Engenheiro de Software                     0.812500   \n",
       "Engenheiro de Dados                                      0.818841   \n",
       "Outras                                                   0.808163   \n",
       "\n",
       "                                      ('P13', 'manager')  \\\n",
       "profissao                                                  \n",
       "Analista de BI                                  0.036036   \n",
       "Analista de Dados                               0.018405   \n",
       "Cientista de Dados                              0.000000   \n",
       "Desenvolvedor/Engenheiro de Software            0.022222   \n",
       "Engenheiro de Dados                             0.034722   \n",
       "Outras                                          0.028112   \n",
       "\n",
       "                                      ('P19', 'is_data_science_professional')  \\\n",
       "profissao                                                                       \n",
       "Analista de BI                                                       0.450450   \n",
       "Analista de Dados                                                    0.803681   \n",
       "Cientista de Dados                                                   0.960674   \n",
       "Desenvolvedor/Engenheiro de Software                                 0.262222   \n",
       "Engenheiro de Dados                                                  0.680556   \n",
       "Outras                                                               0.160643   \n",
       "\n",
       "                                      ('P20', 'linear_regression')  \\\n",
       "profissao                                                            \n",
       "Analista de BI                                            0.180180   \n",
       "Analista de Dados                                         0.361963   \n",
       "Cientista de Dados                                        0.769663   \n",
       "Desenvolvedor/Engenheiro de Software                      0.124444   \n",
       "Engenheiro de Dados                                       0.270833   \n",
       "Outras                                                    0.072289   \n",
       "\n",
       "                                      ('P20', 'logistic_regression')  \\\n",
       "profissao                                                              \n",
       "Analista de BI                                              0.103604   \n",
       "Analista de Dados                                           0.300613   \n",
       "Cientista de Dados                                          0.685393   \n",
       "Desenvolvedor/Engenheiro de Software                        0.071111   \n",
       "Engenheiro de Dados                                         0.145833   \n",
       "Outras                                                      0.052209   \n",
       "\n",
       "                                      ('P20', 'glms')  \\\n",
       "profissao                                               \n",
       "Analista de BI                               0.018018   \n",
       "Analista de Dados                            0.055215   \n",
       "Cientista de Dados                           0.303371   \n",
       "Desenvolvedor/Engenheiro de Software         0.008889   \n",
       "Engenheiro de Dados                          0.013889   \n",
       "Outras                                       0.000000   \n",
       "\n",
       "                                      ('P20', 'decision_tree')  \\\n",
       "profissao                                                        \n",
       "Analista de BI                                        0.135135   \n",
       "Analista de Dados                                     0.276074   \n",
       "Cientista de Dados                                    0.679775   \n",
       "Desenvolvedor/Engenheiro de Software                  0.120000   \n",
       "Engenheiro de Dados                                   0.180556   \n",
       "Outras                                                0.060241   \n",
       "\n",
       "                                      ('P20', 'random_forest')  ...  \\\n",
       "profissao                                                       ...   \n",
       "Analista de BI                                        0.049550  ...   \n",
       "Analista de Dados                                     0.214724  ...   \n",
       "Cientista de Dados                                    0.657303  ...   \n",
       "Desenvolvedor/Engenheiro de Software                  0.075556  ...   \n",
       "Engenheiro de Dados                                   0.159722  ...   \n",
       "Outras                                                0.044177  ...   \n",
       "\n",
       "                                      ('P34', 'udemy')  ('P34', 'height')  \\\n",
       "profissao                                                                   \n",
       "Analista de BI                                0.729730           0.207207   \n",
       "Analista de Dados                             0.742331           0.171779   \n",
       "Cientista de Dados                            0.668539           0.140449   \n",
       "Desenvolvedor/Engenheiro de Software          0.591111           0.235556   \n",
       "Engenheiro de Dados                           0.673611           0.256944   \n",
       "Outras                                        0.610442           0.144578   \n",
       "\n",
       "                                      ('P34', 'edx')  ('P34', 'data_camp')  \\\n",
       "profissao                                                                    \n",
       "Analista de BI                              0.112613              0.139640   \n",
       "Analista de Dados                           0.134969              0.220859   \n",
       "Cientista de Dados                          0.314607              0.404494   \n",
       "Desenvolvedor/Engenheiro de Software        0.137778              0.191111   \n",
       "Engenheiro de Dados                         0.104167              0.180556   \n",
       "Outras                                      0.156627              0.164659   \n",
       "\n",
       "                                      ('P34', 'data_quest')  \\\n",
       "profissao                                                     \n",
       "Analista de BI                                     0.040541   \n",
       "Analista de Dados                                  0.036810   \n",
       "Cientista de Dados                                 0.044944   \n",
       "Desenvolvedor/Engenheiro de Software               0.031111   \n",
       "Engenheiro de Dados                                0.034722   \n",
       "Outras                                             0.040161   \n",
       "\n",
       "                                      ('P34', 'kaggle_learn')  \\\n",
       "profissao                                                       \n",
       "Analista de BI                                       0.162162   \n",
       "Analista de Dados                                    0.208589   \n",
       "Cientista de Dados                                   0.303371   \n",
       "Desenvolvedor/Engenheiro de Software                 0.200000   \n",
       "Engenheiro de Dados                                  0.090278   \n",
       "Outras                                               0.120482   \n",
       "\n",
       "                                      ('P34', 'online_courses')  \\\n",
       "profissao                                                         \n",
       "Analista de BI                                         0.081081   \n",
       "Analista de Dados                                      0.061350   \n",
       "Cientista de Dados                                     0.050562   \n",
       "Desenvolvedor/Engenheiro de Software                   0.088889   \n",
       "Engenheiro de Dados                                    0.097222   \n",
       "Outras                                                 0.140562   \n",
       "\n",
       "                                      ('P34', 'other')  \\\n",
       "profissao                                                \n",
       "Analista de BI                                0.180180   \n",
       "Analista de Dados                             0.177914   \n",
       "Cientista de Dados                            0.050562   \n",
       "Desenvolvedor/Engenheiro de Software          0.106667   \n",
       "Engenheiro de Dados                           0.083333   \n",
       "Outras                                        0.148594   \n",
       "\n",
       "                                      ('P36', 'draw_participation')  \\\n",
       "profissao                                                             \n",
       "Analista de BI                                             0.864865   \n",
       "Analista de Dados                                          0.833333   \n",
       "Cientista de Dados                                         0.702247   \n",
       "Desenvolvedor/Engenheiro de Software                       0.861607   \n",
       "Engenheiro de Dados                                        0.868056   \n",
       "Outras                                                     0.835341   \n",
       "\n",
       "                                          salario  \n",
       "profissao                                          \n",
       "Analista de BI                        4736.363636  \n",
       "Analista de Dados                     4695.833333  \n",
       "Cientista de Dados                    6710.937500  \n",
       "Desenvolvedor/Engenheiro de Software  5058.823529  \n",
       "Engenheiro de Dados                   7755.102041  \n",
       "Outras                                4700.549451  \n",
       "\n",
       "[6 rows x 152 columns]"
      ]
     },
     "execution_count": 240,
     "metadata": {},
     "output_type": "execute_result"
    }
   ],
   "source": [
    "#salario por profissão\n",
    "#Idade por profissão\n",
    "#A maioria são nacionalidade brasileira\n",
    "#E assim por diante. Podemo tirar varios inshet somente desse grupo pai.\n",
    "analisando.groupby('profissao').mean()"
   ]
  },
  {
   "cell_type": "markdown",
   "id": "21e8305d",
   "metadata": {},
   "source": [
    "##### Criando uma nova coluna e somando a quantidade de escolaridade. Formação por cada profissional que atuam na área\n"
   ]
  },
  {
   "cell_type": "code",
   "execution_count": 241,
   "id": "a10ed81f",
   "metadata": {},
   "outputs": [
    {
     "name": "stdout",
     "output_type": "stream",
     "text": [
      "Graduação/Bacharelado         578\n",
      "Pós-graduação                 527\n",
      "Estudante de Graduação        374\n",
      "Mestrado                      201\n",
      "Doutorado ou Phd               50\n",
      "Não tenho graduação formal     34\n",
      "Prefiro não informar            1\n",
      "Name: grau_de_ensino, dtype: int64\n"
     ]
    },
    {
     "data": {
      "text/plain": [
       "<AxesSubplot:title={'center':'Grau de escolaridade'}>"
      ]
     },
     "execution_count": 241,
     "metadata": {},
     "output_type": "execute_result"
    },
    {
     "data": {
      "image/png": "[encoded data removed]",
      "text/plain": [
       "<Figure size 432x288 with 1 Axes>"
      ]
     },
     "metadata": {
      "needs_background": "light"
     },
     "output_type": "display_data"
    }
   ],
   "source": [
    "analisando['grau_de_ensino'] = analisando[\"('P8', 'degreee_level')\"]\n",
    "print(analisando['grau_de_ensino'].value_counts())\n",
    "analisando['grau_de_ensino'].value_counts().plot(kind='barh', title='Grau de escolaridade')"
   ]
  },
  {
   "cell_type": "markdown",
   "id": "c1178a08",
   "metadata": {},
   "source": [
    "###### Analisando salario médio por sexo e porte da empresa."
   ]
  },
  {
   "cell_type": "code",
   "execution_count": 242,
   "id": "c110261a",
   "metadata": {},
   "outputs": [
    {
     "data": {
      "text/html": [
       "<div>\n",
       "<style scoped>\n",
       "    .dataframe tbody tr th:only-of-type {\n",
       "        vertical-align: middle;\n",
       "    }\n",
       "\n",
       "    .dataframe tbody tr th {\n",
       "        vertical-align: top;\n",
       "    }\n",
       "\n",
       "    .dataframe thead th {\n",
       "        text-align: right;\n",
       "    }\n",
       "</style>\n",
       "<table border=\"1\" class=\"dataframe\">\n",
       "  <thead>\n",
       "    <tr style=\"text-align: right;\">\n",
       "      <th>Tamanho_empresa</th>\n",
       "      <th>Grande</th>\n",
       "      <th>Média</th>\n",
       "      <th>Pequena</th>\n",
       "    </tr>\n",
       "    <tr>\n",
       "      <th>sexo</th>\n",
       "      <th></th>\n",
       "      <th></th>\n",
       "      <th></th>\n",
       "    </tr>\n",
       "  </thead>\n",
       "  <tbody>\n",
       "    <tr>\n",
       "      <th>Feminino</th>\n",
       "      <td>6137.68</td>\n",
       "      <td>5480.26</td>\n",
       "      <td>4166.67</td>\n",
       "    </tr>\n",
       "    <tr>\n",
       "      <th>Masculino</th>\n",
       "      <td>7159.09</td>\n",
       "      <td>6276.09</td>\n",
       "      <td>5648.50</td>\n",
       "    </tr>\n",
       "  </tbody>\n",
       "</table>\n",
       "</div>"
      ],
      "text/plain": [
       "Tamanho_empresa   Grande    Média  Pequena\n",
       "sexo                                      \n",
       "Feminino         6137.68  5480.26  4166.67\n",
       "Masculino        7159.09  6276.09  5648.50"
      ]
     },
     "execution_count": 242,
     "metadata": {},
     "output_type": "execute_result"
    }
   ],
   "source": [
    "analisando.groupby(['Tamanho_empresa','sexo']).mean()['salario'].unstack().transpose().round(2)\n"
   ]
  },
  {
   "cell_type": "markdown",
   "id": "267a15a2",
   "metadata": {},
   "source": [
    "##### Tempo de  Experiência"
   ]
  },
  {
   "cell_type": "code",
   "execution_count": 243,
   "id": "cef6cae1",
   "metadata": {},
   "outputs": [
    {
     "data": {
      "text/plain": [
       "<AxesSubplot:title={'center':'Ano de experiência'}, ylabel='experiencia_ds'>"
      ]
     },
     "execution_count": 243,
     "metadata": {},
     "output_type": "execute_result"
    },
    {
     "data": {
      "image/png": "[encoded data removed]",
      "text/plain": [
       "<Figure size 432x288 with 1 Axes>"
      ]
     },
     "metadata": {
      "needs_background": "light"
     },
     "output_type": "display_data"
    }
   ],
   "source": [
    "analisando['experiencia_ds'] = analisando[\"('P17', 'time_experience_data_science')\"]\n",
    "analisando.groupby(['experiencia_ds']).mean()['salario'].round(2).sort_values().plot(kind='barh',  title='Ano de experiência')"
   ]
  },
  {
   "cell_type": "markdown",
   "id": "e358e646",
   "metadata": {},
   "source": [
    "###### Analisando o sexo"
   ]
  },
  {
   "cell_type": "code",
   "execution_count": 244,
   "id": "80af327d",
   "metadata": {},
   "outputs": [
    {
     "data": {
      "text/plain": [
       "<AxesSubplot:ylabel='sexo'>"
      ]
     },
     "execution_count": 244,
     "metadata": {},
     "output_type": "execute_result"
    },
    {
     "data": {
      "image/png": "[encoded data removed]",
      "text/plain": [
       "<Figure size 432x288 with 1 Axes>"
      ]
     },
     "metadata": {},
     "output_type": "display_data"
    }
   ],
   "source": [
    "analisando['sexo'].value_counts().plot(kind='pie', autopct=\"%1.1f%%\")"
   ]
  },
  {
   "cell_type": "markdown",
   "id": "f8f4cf21",
   "metadata": {},
   "source": [
    "###### Analisando salario medio por sexo e porte da empresa em grafico de barra."
   ]
  },
  {
   "cell_type": "code",
   "execution_count": 245,
   "id": "0f5bb66e",
   "metadata": {},
   "outputs": [
    {
     "data": {
      "text/plain": [
       "<AxesSubplot:title={'center':'Salário vs Sexo por tamanho de Empresa'}, xlabel='Tamanho_empresa'>"
      ]
     },
     "execution_count": 245,
     "metadata": {},
     "output_type": "execute_result"
    },
    {
     "data": {
      "image/png": "[encoded data removed]",
      "text/plain": [
       "<Figure size 432x288 with 1 Axes>"
      ]
     },
     "metadata": {
      "needs_background": "light"
     },
     "output_type": "display_data"
    }
   ],
   "source": [
    "analisando.groupby(['Tamanho_empresa', 'sexo']).mean()['salario'].unstack().plot(kind='bar', title = 'Salário vs Sexo por tamanho de Empresa')\n",
    "#caso queira salvar as tabelas com dados em um arquivo, como por exemplo em CSV. Basta usar o comando to_csv(\"analisando.csv\")"
   ]
  },
  {
   "cell_type": "markdown",
   "id": "cf28ddbd",
   "metadata": {},
   "source": [
    "##### Analisando idades por salário"
   ]
  },
  {
   "cell_type": "code",
   "execution_count": 246,
   "id": "18f1b6df",
   "metadata": {},
   "outputs": [],
   "source": [
    "analisando['idade'] = analisando[\"('P8\\', \\'degreee_level\\')\"]"
   ]
  },
  {
   "cell_type": "code",
   "execution_count": 247,
   "id": "d506823f",
   "metadata": {},
   "outputs": [],
   "source": [
    "corte = [0, 24, 30, 40, 100]\n",
    "nome = ['[18,24]', '[25,30]', '[31,40]', '[41,50]']\n",
    "analisando['idade'] = pd.cut(analisando[\"('P1', 'age')\"], bins = corte, labels = nome)"
   ]
  },
  {
   "cell_type": "code",
   "execution_count": 248,
   "id": "a2f626aa",
   "metadata": {},
   "outputs": [
    {
     "data": {
      "text/plain": [
       "<AxesSubplot:title={'center':'Idade vs Salário'}, ylabel='idade'>"
      ]
     },
     "execution_count": 248,
     "metadata": {},
     "output_type": "execute_result"
    },
    {
     "data": {
      "image/png": "[encoded data removed]",
      "text/plain": [
       "<Figure size 432x288 with 1 Axes>"
      ]
     },
     "metadata": {
      "needs_background": "light"
     },
     "output_type": "display_data"
    }
   ],
   "source": [
    "analisando.groupby('idade').mean()['salario'].plot(kind='barh', title ='Idade vs Salário')"
   ]
  },
  {
   "cell_type": "markdown",
   "id": "21226656",
   "metadata": {},
   "source": [
    "##### Tipo de registro ou contratação"
   ]
  },
  {
   "cell_type": "code",
   "execution_count": 249,
   "id": "8ab2e459",
   "metadata": {},
   "outputs": [],
   "source": [
    "analisando['contratacao'] = analisando[\"('P10', 'job_situation')\"]"
   ]
  },
  {
   "cell_type": "code",
   "execution_count": 250,
   "id": "61a57174",
   "metadata": {},
   "outputs": [
    {
     "data": {
      "text/plain": [
       "<AxesSubplot:title={'center':'Tipos de Registros'}>"
      ]
     },
     "execution_count": 250,
     "metadata": {},
     "output_type": "execute_result"
    },
    {
     "data": {
      "image/png": "[encoded data removed]",
      "text/plain": [
       "<Figure size 432x288 with 1 Axes>"
      ]
     },
     "metadata": {
      "needs_background": "light"
     },
     "output_type": "display_data"
    }
   ],
   "source": [
    "analisando['contratacao'].value_counts().plot(kind='barh', title= 'Tipos de Registros')"
   ]
  },
  {
   "cell_type": "markdown",
   "id": "bb2a00da",
   "metadata": {},
   "source": [
    "###### Ciência de dados aplicada dentros das corporações."
   ]
  },
  {
   "cell_type": "code",
   "execution_count": 251,
   "id": "f1de6a3a",
   "metadata": {},
   "outputs": [
    {
     "data": {
      "text/plain": [
       "<AxesSubplot:title={'center':' Ciência de dados aplicada em cada seguimentação'}>"
      ]
     },
     "execution_count": 251,
     "metadata": {},
     "output_type": "execute_result"
    },
    {
     "data": {
      "image/png": "[encoded data removed]",
      "text/plain": [
       "<Figure size 432x288 with 1 Axes>"
      ]
     },
     "metadata": {
      "needs_background": "light"
     },
     "output_type": "display_data"
    }
   ],
   "source": [
    "analisando['setores'] = analisando[\"('D4', 'anonymized_market_sector')\"]\n",
    "analisando['setores'].value_counts().plot(kind = 'barh', title = ' Ciência de dados aplicada em cada seguimentação')"
   ]
  },
  {
   "cell_type": "markdown",
   "id": "61fe0270",
   "metadata": {},
   "source": [
    "### Vamos agora análisar uma área especifica, profissional :Cientista de Dados"
   ]
  },
  {
   "cell_type": "code",
   "execution_count": 252,
   "id": "7c7f13d5",
   "metadata": {},
   "outputs": [
    {
     "data": {
      "text/html": [
       "<div>\n",
       "<style scoped>\n",
       "    .dataframe tbody tr th:only-of-type {\n",
       "        vertical-align: middle;\n",
       "    }\n",
       "\n",
       "    .dataframe tbody tr th {\n",
       "        vertical-align: top;\n",
       "    }\n",
       "\n",
       "    .dataframe thead th {\n",
       "        text-align: right;\n",
       "    }\n",
       "</style>\n",
       "<table border=\"1\" class=\"dataframe\">\n",
       "  <thead>\n",
       "    <tr style=\"text-align: right;\">\n",
       "      <th></th>\n",
       "      <th>count</th>\n",
       "      <th>mean</th>\n",
       "      <th>std</th>\n",
       "      <th>min</th>\n",
       "      <th>25%</th>\n",
       "      <th>50%</th>\n",
       "      <th>75%</th>\n",
       "      <th>max</th>\n",
       "    </tr>\n",
       "    <tr>\n",
       "      <th>Tamanho_empresa</th>\n",
       "      <th></th>\n",
       "      <th></th>\n",
       "      <th></th>\n",
       "      <th></th>\n",
       "      <th></th>\n",
       "      <th></th>\n",
       "      <th></th>\n",
       "      <th></th>\n",
       "    </tr>\n",
       "  </thead>\n",
       "  <tbody>\n",
       "    <tr>\n",
       "      <th>Grande</th>\n",
       "      <td>41.0</td>\n",
       "      <td>7865.853659</td>\n",
       "      <td>5208.195933</td>\n",
       "      <td>1500.0</td>\n",
       "      <td>5000.0</td>\n",
       "      <td>7000.0</td>\n",
       "      <td>7000.0</td>\n",
       "      <td>25000.0</td>\n",
       "    </tr>\n",
       "    <tr>\n",
       "      <th>Média</th>\n",
       "      <td>51.0</td>\n",
       "      <td>7245.098039</td>\n",
       "      <td>5400.344942</td>\n",
       "      <td>1500.0</td>\n",
       "      <td>4250.0</td>\n",
       "      <td>5000.0</td>\n",
       "      <td>7000.0</td>\n",
       "      <td>22000.0</td>\n",
       "    </tr>\n",
       "    <tr>\n",
       "      <th>Pequena</th>\n",
       "      <td>36.0</td>\n",
       "      <td>4638.888889</td>\n",
       "      <td>2307.166200</td>\n",
       "      <td>1500.0</td>\n",
       "      <td>3500.0</td>\n",
       "      <td>5000.0</td>\n",
       "      <td>5000.0</td>\n",
       "      <td>14000.0</td>\n",
       "    </tr>\n",
       "  </tbody>\n",
       "</table>\n",
       "</div>"
      ],
      "text/plain": [
       "                 count         mean          std     min     25%     50%  \\\n",
       "Tamanho_empresa                                                            \n",
       "Grande            41.0  7865.853659  5208.195933  1500.0  5000.0  7000.0   \n",
       "Média             51.0  7245.098039  5400.344942  1500.0  4250.0  5000.0   \n",
       "Pequena           36.0  4638.888889  2307.166200  1500.0  3500.0  5000.0   \n",
       "\n",
       "                    75%      max  \n",
       "Tamanho_empresa                   \n",
       "Grande           7000.0  25000.0  \n",
       "Média            7000.0  22000.0  \n",
       "Pequena          5000.0  14000.0  "
      ]
     },
     "execution_count": 252,
     "metadata": {},
     "output_type": "execute_result"
    }
   ],
   "source": [
    "cientista_de_dados = analisando[analisando['profissao'] == 'Cientista de Dados']\n",
    "#Analisando o tamanho da empresa e o salario que os Cientista de Dados ganham.\n",
    "cientista_de_dados.groupby('Tamanho_empresa').describe()['salario']"
   ]
  },
  {
   "cell_type": "code",
   "execution_count": 253,
   "id": "e7985ba3",
   "metadata": {},
   "outputs": [
    {
     "data": {
      "text/html": [
       "<div>\n",
       "<style scoped>\n",
       "    .dataframe tbody tr th:only-of-type {\n",
       "        vertical-align: middle;\n",
       "    }\n",
       "\n",
       "    .dataframe tbody tr th {\n",
       "        vertical-align: top;\n",
       "    }\n",
       "\n",
       "    .dataframe thead th {\n",
       "        text-align: right;\n",
       "    }\n",
       "</style>\n",
       "<table border=\"1\" class=\"dataframe\">\n",
       "  <thead>\n",
       "    <tr style=\"text-align: right;\">\n",
       "      <th></th>\n",
       "      <th>count</th>\n",
       "      <th>mean</th>\n",
       "      <th>std</th>\n",
       "      <th>min</th>\n",
       "      <th>25%</th>\n",
       "      <th>50%</th>\n",
       "      <th>75%</th>\n",
       "      <th>max</th>\n",
       "    </tr>\n",
       "    <tr>\n",
       "      <th>sexo</th>\n",
       "      <th></th>\n",
       "      <th></th>\n",
       "      <th></th>\n",
       "      <th></th>\n",
       "      <th></th>\n",
       "      <th></th>\n",
       "      <th></th>\n",
       "      <th></th>\n",
       "    </tr>\n",
       "  </thead>\n",
       "  <tbody>\n",
       "    <tr>\n",
       "      <th>Feminino</th>\n",
       "      <td>22.0</td>\n",
       "      <td>5863.636364</td>\n",
       "      <td>4143.790013</td>\n",
       "      <td>1500.0</td>\n",
       "      <td>3500.0</td>\n",
       "      <td>5000.0</td>\n",
       "      <td>5000.0</td>\n",
       "      <td>18000.0</td>\n",
       "    </tr>\n",
       "    <tr>\n",
       "      <th>Masculino</th>\n",
       "      <td>106.0</td>\n",
       "      <td>6886.792453</td>\n",
       "      <td>4950.845536</td>\n",
       "      <td>1500.0</td>\n",
       "      <td>3500.0</td>\n",
       "      <td>5000.0</td>\n",
       "      <td>7000.0</td>\n",
       "      <td>25000.0</td>\n",
       "    </tr>\n",
       "  </tbody>\n",
       "</table>\n",
       "</div>"
      ],
      "text/plain": [
       "           count         mean          std     min     25%     50%     75%  \\\n",
       "sexo                                                                         \n",
       "Feminino    22.0  5863.636364  4143.790013  1500.0  3500.0  5000.0  5000.0   \n",
       "Masculino  106.0  6886.792453  4950.845536  1500.0  3500.0  5000.0  7000.0   \n",
       "\n",
       "               max  \n",
       "sexo                \n",
       "Feminino   18000.0  \n",
       "Masculino  25000.0  "
      ]
     },
     "execution_count": 253,
     "metadata": {},
     "output_type": "execute_result"
    }
   ],
   "source": [
    "#Analisando o Sexo por salario dos profissionais de cientista de dados.\n",
    "cientista_de_dados.groupby('sexo').describe()['salario']"
   ]
  },
  {
   "cell_type": "code",
   "execution_count": 254,
   "id": "41c8bf44",
   "metadata": {},
   "outputs": [
    {
     "data": {
      "text/html": [
       "<div>\n",
       "<style scoped>\n",
       "    .dataframe tbody tr th:only-of-type {\n",
       "        vertical-align: middle;\n",
       "    }\n",
       "\n",
       "    .dataframe tbody tr th {\n",
       "        vertical-align: top;\n",
       "    }\n",
       "\n",
       "    .dataframe thead th {\n",
       "        text-align: right;\n",
       "    }\n",
       "</style>\n",
       "<table border=\"1\" class=\"dataframe\">\n",
       "  <thead>\n",
       "    <tr style=\"text-align: right;\">\n",
       "      <th></th>\n",
       "      <th>count</th>\n",
       "      <th>mean</th>\n",
       "      <th>std</th>\n",
       "      <th>min</th>\n",
       "      <th>25%</th>\n",
       "      <th>50%</th>\n",
       "      <th>75%</th>\n",
       "      <th>max</th>\n",
       "    </tr>\n",
       "    <tr>\n",
       "      <th>idade</th>\n",
       "      <th></th>\n",
       "      <th></th>\n",
       "      <th></th>\n",
       "      <th></th>\n",
       "      <th></th>\n",
       "      <th></th>\n",
       "      <th></th>\n",
       "      <th></th>\n",
       "    </tr>\n",
       "  </thead>\n",
       "  <tbody>\n",
       "    <tr>\n",
       "      <th>[18,24]</th>\n",
       "      <td>32.0</td>\n",
       "      <td>4625.000000</td>\n",
       "      <td>3519.530761</td>\n",
       "      <td>1500.0</td>\n",
       "      <td>3500.0</td>\n",
       "      <td>5000.0</td>\n",
       "      <td>5000.0</td>\n",
       "      <td>22000.0</td>\n",
       "    </tr>\n",
       "    <tr>\n",
       "      <th>[25,30]</th>\n",
       "      <td>59.0</td>\n",
       "      <td>5288.135593</td>\n",
       "      <td>2347.418593</td>\n",
       "      <td>1500.0</td>\n",
       "      <td>3500.0</td>\n",
       "      <td>5000.0</td>\n",
       "      <td>7000.0</td>\n",
       "      <td>14000.0</td>\n",
       "    </tr>\n",
       "    <tr>\n",
       "      <th>[31,40]</th>\n",
       "      <td>31.0</td>\n",
       "      <td>11064.516129</td>\n",
       "      <td>5701.961556</td>\n",
       "      <td>3500.0</td>\n",
       "      <td>7000.0</td>\n",
       "      <td>7000.0</td>\n",
       "      <td>14000.0</td>\n",
       "      <td>22000.0</td>\n",
       "    </tr>\n",
       "    <tr>\n",
       "      <th>[41,50]</th>\n",
       "      <td>5.0</td>\n",
       "      <td>10900.000000</td>\n",
       "      <td>8848.728722</td>\n",
       "      <td>3500.0</td>\n",
       "      <td>5000.0</td>\n",
       "      <td>7000.0</td>\n",
       "      <td>14000.0</td>\n",
       "      <td>25000.0</td>\n",
       "    </tr>\n",
       "  </tbody>\n",
       "</table>\n",
       "</div>"
      ],
      "text/plain": [
       "         count          mean          std     min     25%     50%      75%  \\\n",
       "idade                                                                        \n",
       "[18,24]   32.0   4625.000000  3519.530761  1500.0  3500.0  5000.0   5000.0   \n",
       "[25,30]   59.0   5288.135593  2347.418593  1500.0  3500.0  5000.0   7000.0   \n",
       "[31,40]   31.0  11064.516129  5701.961556  3500.0  7000.0  7000.0  14000.0   \n",
       "[41,50]    5.0  10900.000000  8848.728722  3500.0  5000.0  7000.0  14000.0   \n",
       "\n",
       "             max  \n",
       "idade             \n",
       "[18,24]  22000.0  \n",
       "[25,30]  14000.0  \n",
       "[31,40]  22000.0  \n",
       "[41,50]  25000.0  "
      ]
     },
     "execution_count": 254,
     "metadata": {},
     "output_type": "execute_result"
    }
   ],
   "source": [
    "#Analisando a idade por salario dos profissionais de cientista de dados.\n",
    "cientista_de_dados.groupby('idade').describe()['salario']"
   ]
  },
  {
   "cell_type": "code",
   "execution_count": 255,
   "id": "02113ee8",
   "metadata": {},
   "outputs": [
    {
     "data": {
      "text/html": [
       "<div>\n",
       "<style scoped>\n",
       "    .dataframe tbody tr th:only-of-type {\n",
       "        vertical-align: middle;\n",
       "    }\n",
       "\n",
       "    .dataframe tbody tr th {\n",
       "        vertical-align: top;\n",
       "    }\n",
       "\n",
       "    .dataframe thead th {\n",
       "        text-align: right;\n",
       "    }\n",
       "</style>\n",
       "<table border=\"1\" class=\"dataframe\">\n",
       "  <thead>\n",
       "    <tr style=\"text-align: right;\">\n",
       "      <th></th>\n",
       "      <th>count</th>\n",
       "      <th>mean</th>\n",
       "      <th>std</th>\n",
       "      <th>min</th>\n",
       "      <th>25%</th>\n",
       "      <th>50%</th>\n",
       "      <th>75%</th>\n",
       "      <th>max</th>\n",
       "    </tr>\n",
       "    <tr>\n",
       "      <th>experiencia_ds</th>\n",
       "      <th></th>\n",
       "      <th></th>\n",
       "      <th></th>\n",
       "      <th></th>\n",
       "      <th></th>\n",
       "      <th></th>\n",
       "      <th></th>\n",
       "      <th></th>\n",
       "    </tr>\n",
       "  </thead>\n",
       "  <tbody>\n",
       "    <tr>\n",
       "      <th>Mais de 10 anos</th>\n",
       "      <td>8.0</td>\n",
       "      <td>11437.500000</td>\n",
       "      <td>6521.598730</td>\n",
       "      <td>1500.0</td>\n",
       "      <td>6500.0</td>\n",
       "      <td>14000.0</td>\n",
       "      <td>14000.0</td>\n",
       "      <td>22000.0</td>\n",
       "    </tr>\n",
       "    <tr>\n",
       "      <th>Menos de 1 ano</th>\n",
       "      <td>26.0</td>\n",
       "      <td>4134.615385</td>\n",
       "      <td>1910.799269</td>\n",
       "      <td>1500.0</td>\n",
       "      <td>2000.0</td>\n",
       "      <td>5000.0</td>\n",
       "      <td>5000.0</td>\n",
       "      <td>7000.0</td>\n",
       "    </tr>\n",
       "    <tr>\n",
       "      <th>Não tenho experiência na área de dados</th>\n",
       "      <td>0.0</td>\n",
       "      <td>NaN</td>\n",
       "      <td>NaN</td>\n",
       "      <td>NaN</td>\n",
       "      <td>NaN</td>\n",
       "      <td>NaN</td>\n",
       "      <td>NaN</td>\n",
       "      <td>NaN</td>\n",
       "    </tr>\n",
       "    <tr>\n",
       "      <th>de 1 a 2 anos</th>\n",
       "      <td>39.0</td>\n",
       "      <td>4923.076923</td>\n",
       "      <td>2558.624377</td>\n",
       "      <td>1500.0</td>\n",
       "      <td>3500.0</td>\n",
       "      <td>5000.0</td>\n",
       "      <td>5000.0</td>\n",
       "      <td>18000.0</td>\n",
       "    </tr>\n",
       "    <tr>\n",
       "      <th>de 2 a 3 anos</th>\n",
       "      <td>32.0</td>\n",
       "      <td>6093.750000</td>\n",
       "      <td>2560.360043</td>\n",
       "      <td>1500.0</td>\n",
       "      <td>5000.0</td>\n",
       "      <td>6000.0</td>\n",
       "      <td>7000.0</td>\n",
       "      <td>14000.0</td>\n",
       "    </tr>\n",
       "    <tr>\n",
       "      <th>de 4 a 5 anos</th>\n",
       "      <td>15.0</td>\n",
       "      <td>11600.000000</td>\n",
       "      <td>7421.493881</td>\n",
       "      <td>1500.0</td>\n",
       "      <td>7000.0</td>\n",
       "      <td>7000.0</td>\n",
       "      <td>16000.0</td>\n",
       "      <td>25000.0</td>\n",
       "    </tr>\n",
       "    <tr>\n",
       "      <th>de 6 a 10 anos</th>\n",
       "      <td>8.0</td>\n",
       "      <td>12375.000000</td>\n",
       "      <td>5829.420456</td>\n",
       "      <td>5000.0</td>\n",
       "      <td>6500.0</td>\n",
       "      <td>14000.0</td>\n",
       "      <td>18000.0</td>\n",
       "      <td>18000.0</td>\n",
       "    </tr>\n",
       "  </tbody>\n",
       "</table>\n",
       "</div>"
      ],
      "text/plain": [
       "                                        count          mean          std  \\\n",
       "experiencia_ds                                                             \n",
       "Mais de 10 anos                           8.0  11437.500000  6521.598730   \n",
       "Menos de 1 ano                           26.0   4134.615385  1910.799269   \n",
       "Não tenho experiência na área de dados    0.0           NaN          NaN   \n",
       "de 1 a 2 anos                            39.0   4923.076923  2558.624377   \n",
       "de 2 a 3 anos                            32.0   6093.750000  2560.360043   \n",
       "de 4 a 5 anos                            15.0  11600.000000  7421.493881   \n",
       "de 6 a 10 anos                            8.0  12375.000000  5829.420456   \n",
       "\n",
       "                                           min     25%      50%      75%  \\\n",
       "experiencia_ds                                                             \n",
       "Mais de 10 anos                         1500.0  6500.0  14000.0  14000.0   \n",
       "Menos de 1 ano                          1500.0  2000.0   5000.0   5000.0   \n",
       "Não tenho experiência na área de dados     NaN     NaN      NaN      NaN   \n",
       "de 1 a 2 anos                           1500.0  3500.0   5000.0   5000.0   \n",
       "de 2 a 3 anos                           1500.0  5000.0   6000.0   7000.0   \n",
       "de 4 a 5 anos                           1500.0  7000.0   7000.0  16000.0   \n",
       "de 6 a 10 anos                          5000.0  6500.0  14000.0  18000.0   \n",
       "\n",
       "                                            max  \n",
       "experiencia_ds                                   \n",
       "Mais de 10 anos                         22000.0  \n",
       "Menos de 1 ano                           7000.0  \n",
       "Não tenho experiência na área de dados      NaN  \n",
       "de 1 a 2 anos                           18000.0  \n",
       "de 2 a 3 anos                           14000.0  \n",
       "de 4 a 5 anos                           25000.0  \n",
       "de 6 a 10 anos                          18000.0  "
      ]
     },
     "execution_count": 255,
     "metadata": {},
     "output_type": "execute_result"
    }
   ],
   "source": [
    "# Analisando tempo de experiência dos Cientista de Dados\n",
    "cientista_de_dados.groupby('experiencia_ds').describe()['salario']"
   ]
  },
  {
   "cell_type": "code",
   "execution_count": 256,
   "id": "ab7e786f",
   "metadata": {},
   "outputs": [
    {
     "data": {
      "text/html": [
       "<div>\n",
       "<style scoped>\n",
       "    .dataframe tbody tr th:only-of-type {\n",
       "        vertical-align: middle;\n",
       "    }\n",
       "\n",
       "    .dataframe tbody tr th {\n",
       "        vertical-align: top;\n",
       "    }\n",
       "\n",
       "    .dataframe thead th {\n",
       "        text-align: right;\n",
       "    }\n",
       "</style>\n",
       "<table border=\"1\" class=\"dataframe\">\n",
       "  <thead>\n",
       "    <tr style=\"text-align: right;\">\n",
       "      <th></th>\n",
       "      <th>count</th>\n",
       "      <th>mean</th>\n",
       "      <th>std</th>\n",
       "      <th>min</th>\n",
       "      <th>25%</th>\n",
       "      <th>50%</th>\n",
       "      <th>75%</th>\n",
       "      <th>max</th>\n",
       "    </tr>\n",
       "    <tr>\n",
       "      <th>setores</th>\n",
       "      <th></th>\n",
       "      <th></th>\n",
       "      <th></th>\n",
       "      <th></th>\n",
       "      <th></th>\n",
       "      <th></th>\n",
       "      <th></th>\n",
       "      <th></th>\n",
       "    </tr>\n",
       "  </thead>\n",
       "  <tbody>\n",
       "    <tr>\n",
       "      <th>Agronegócios</th>\n",
       "      <td>13.0</td>\n",
       "      <td>5346.153846</td>\n",
       "      <td>5022.385785</td>\n",
       "      <td>1500.0</td>\n",
       "      <td>3500.0</td>\n",
       "      <td>3500.0</td>\n",
       "      <td>5000.0</td>\n",
       "      <td>18000.0</td>\n",
       "    </tr>\n",
       "    <tr>\n",
       "      <th>Educação</th>\n",
       "      <td>71.0</td>\n",
       "      <td>4943.661972</td>\n",
       "      <td>3350.425661</td>\n",
       "      <td>1500.0</td>\n",
       "      <td>3500.0</td>\n",
       "      <td>5000.0</td>\n",
       "      <td>5000.0</td>\n",
       "      <td>22000.0</td>\n",
       "    </tr>\n",
       "    <tr>\n",
       "      <th>Entretenimento ou Esportes</th>\n",
       "      <td>14.0</td>\n",
       "      <td>6821.428571</td>\n",
       "      <td>6573.861829</td>\n",
       "      <td>1500.0</td>\n",
       "      <td>3500.0</td>\n",
       "      <td>5000.0</td>\n",
       "      <td>6500.0</td>\n",
       "      <td>25000.0</td>\n",
       "    </tr>\n",
       "    <tr>\n",
       "      <th>Finanças ou Bancos</th>\n",
       "      <td>121.0</td>\n",
       "      <td>7611.570248</td>\n",
       "      <td>5853.235431</td>\n",
       "      <td>1500.0</td>\n",
       "      <td>5000.0</td>\n",
       "      <td>5000.0</td>\n",
       "      <td>7000.0</td>\n",
       "      <td>25000.0</td>\n",
       "    </tr>\n",
       "    <tr>\n",
       "      <th>Indústria (Manufatura)</th>\n",
       "      <td>56.0</td>\n",
       "      <td>6553.571429</td>\n",
       "      <td>5797.082786</td>\n",
       "      <td>1500.0</td>\n",
       "      <td>3500.0</td>\n",
       "      <td>5000.0</td>\n",
       "      <td>7000.0</td>\n",
       "      <td>25000.0</td>\n",
       "    </tr>\n",
       "    <tr>\n",
       "      <th>Internet/Ecommerce</th>\n",
       "      <td>44.0</td>\n",
       "      <td>6090.909091</td>\n",
       "      <td>3987.294833</td>\n",
       "      <td>1500.0</td>\n",
       "      <td>3500.0</td>\n",
       "      <td>5000.0</td>\n",
       "      <td>7000.0</td>\n",
       "      <td>18000.0</td>\n",
       "    </tr>\n",
       "    <tr>\n",
       "      <th>Marketing</th>\n",
       "      <td>51.0</td>\n",
       "      <td>6196.078431</td>\n",
       "      <td>5256.499245</td>\n",
       "      <td>1500.0</td>\n",
       "      <td>3500.0</td>\n",
       "      <td>5000.0</td>\n",
       "      <td>7000.0</td>\n",
       "      <td>25000.0</td>\n",
       "    </tr>\n",
       "    <tr>\n",
       "      <th>Outras</th>\n",
       "      <td>120.0</td>\n",
       "      <td>5187.500000</td>\n",
       "      <td>3640.956622</td>\n",
       "      <td>1500.0</td>\n",
       "      <td>3500.0</td>\n",
       "      <td>5000.0</td>\n",
       "      <td>5000.0</td>\n",
       "      <td>18000.0</td>\n",
       "    </tr>\n",
       "    <tr>\n",
       "      <th>Seguros ou Previdência</th>\n",
       "      <td>8.0</td>\n",
       "      <td>6312.500000</td>\n",
       "      <td>5450.671649</td>\n",
       "      <td>1500.0</td>\n",
       "      <td>1500.0</td>\n",
       "      <td>7000.0</td>\n",
       "      <td>7000.0</td>\n",
       "      <td>18000.0</td>\n",
       "    </tr>\n",
       "    <tr>\n",
       "      <th>Setor Alimentício</th>\n",
       "      <td>9.0</td>\n",
       "      <td>4555.555556</td>\n",
       "      <td>2214.221709</td>\n",
       "      <td>1500.0</td>\n",
       "      <td>3500.0</td>\n",
       "      <td>5000.0</td>\n",
       "      <td>7000.0</td>\n",
       "      <td>7000.0</td>\n",
       "    </tr>\n",
       "    <tr>\n",
       "      <th>Setor Automotivo</th>\n",
       "      <td>17.0</td>\n",
       "      <td>6323.529412</td>\n",
       "      <td>3991.949620</td>\n",
       "      <td>1500.0</td>\n",
       "      <td>3500.0</td>\n",
       "      <td>5000.0</td>\n",
       "      <td>7000.0</td>\n",
       "      <td>14000.0</td>\n",
       "    </tr>\n",
       "    <tr>\n",
       "      <th>Setor Farmaceutico</th>\n",
       "      <td>4.0</td>\n",
       "      <td>3750.000000</td>\n",
       "      <td>1658.312395</td>\n",
       "      <td>1500.0</td>\n",
       "      <td>3000.0</td>\n",
       "      <td>4250.0</td>\n",
       "      <td>5000.0</td>\n",
       "      <td>5000.0</td>\n",
       "    </tr>\n",
       "    <tr>\n",
       "      <th>Setor Público</th>\n",
       "      <td>66.0</td>\n",
       "      <td>7848.484848</td>\n",
       "      <td>5412.215313</td>\n",
       "      <td>1500.0</td>\n",
       "      <td>3500.0</td>\n",
       "      <td>7000.0</td>\n",
       "      <td>12250.0</td>\n",
       "      <td>18000.0</td>\n",
       "    </tr>\n",
       "    <tr>\n",
       "      <th>Tecnologia/Fábrica de Software</th>\n",
       "      <td>374.0</td>\n",
       "      <td>5921.122995</td>\n",
       "      <td>4591.758303</td>\n",
       "      <td>1500.0</td>\n",
       "      <td>3500.0</td>\n",
       "      <td>5000.0</td>\n",
       "      <td>7000.0</td>\n",
       "      <td>25000.0</td>\n",
       "    </tr>\n",
       "    <tr>\n",
       "      <th>Telecomunicação</th>\n",
       "      <td>23.0</td>\n",
       "      <td>5673.913043</td>\n",
       "      <td>4225.487319</td>\n",
       "      <td>1500.0</td>\n",
       "      <td>3500.0</td>\n",
       "      <td>5000.0</td>\n",
       "      <td>6000.0</td>\n",
       "      <td>18000.0</td>\n",
       "    </tr>\n",
       "    <tr>\n",
       "      <th>Varejo</th>\n",
       "      <td>52.0</td>\n",
       "      <td>6288.461538</td>\n",
       "      <td>5074.297164</td>\n",
       "      <td>1500.0</td>\n",
       "      <td>3500.0</td>\n",
       "      <td>5000.0</td>\n",
       "      <td>7000.0</td>\n",
       "      <td>22000.0</td>\n",
       "    </tr>\n",
       "    <tr>\n",
       "      <th>Área da Saúde</th>\n",
       "      <td>47.0</td>\n",
       "      <td>7851.063830</td>\n",
       "      <td>5976.325479</td>\n",
       "      <td>1500.0</td>\n",
       "      <td>4250.0</td>\n",
       "      <td>5000.0</td>\n",
       "      <td>14000.0</td>\n",
       "      <td>25000.0</td>\n",
       "    </tr>\n",
       "  </tbody>\n",
       "</table>\n",
       "</div>"
      ],
      "text/plain": [
       "                                count         mean          std     min  \\\n",
       "setores                                                                   \n",
       "Agronegócios                     13.0  5346.153846  5022.385785  1500.0   \n",
       "Educação                         71.0  4943.661972  3350.425661  1500.0   \n",
       "Entretenimento ou Esportes       14.0  6821.428571  6573.861829  1500.0   \n",
       "Finanças ou Bancos              121.0  7611.570248  5853.235431  1500.0   \n",
       "Indústria (Manufatura)           56.0  6553.571429  5797.082786  1500.0   \n",
       "Internet/Ecommerce               44.0  6090.909091  3987.294833  1500.0   \n",
       "Marketing                        51.0  6196.078431  5256.499245  1500.0   \n",
       "Outras                          120.0  5187.500000  3640.956622  1500.0   \n",
       "Seguros ou Previdência            8.0  6312.500000  5450.671649  1500.0   \n",
       "Setor Alimentício                 9.0  4555.555556  2214.221709  1500.0   \n",
       "Setor Automotivo                 17.0  6323.529412  3991.949620  1500.0   \n",
       "Setor Farmaceutico                4.0  3750.000000  1658.312395  1500.0   \n",
       "Setor Público                    66.0  7848.484848  5412.215313  1500.0   \n",
       "Tecnologia/Fábrica de Software  374.0  5921.122995  4591.758303  1500.0   \n",
       "Telecomunicação                  23.0  5673.913043  4225.487319  1500.0   \n",
       "Varejo                           52.0  6288.461538  5074.297164  1500.0   \n",
       "Área da Saúde                    47.0  7851.063830  5976.325479  1500.0   \n",
       "\n",
       "                                   25%     50%      75%      max  \n",
       "setores                                                           \n",
       "Agronegócios                    3500.0  3500.0   5000.0  18000.0  \n",
       "Educação                        3500.0  5000.0   5000.0  22000.0  \n",
       "Entretenimento ou Esportes      3500.0  5000.0   6500.0  25000.0  \n",
       "Finanças ou Bancos              5000.0  5000.0   7000.0  25000.0  \n",
       "Indústria (Manufatura)          3500.0  5000.0   7000.0  25000.0  \n",
       "Internet/Ecommerce              3500.0  5000.0   7000.0  18000.0  \n",
       "Marketing                       3500.0  5000.0   7000.0  25000.0  \n",
       "Outras                          3500.0  5000.0   5000.0  18000.0  \n",
       "Seguros ou Previdência          1500.0  7000.0   7000.0  18000.0  \n",
       "Setor Alimentício               3500.0  5000.0   7000.0   7000.0  \n",
       "Setor Automotivo                3500.0  5000.0   7000.0  14000.0  \n",
       "Setor Farmaceutico              3000.0  4250.0   5000.0   5000.0  \n",
       "Setor Público                   3500.0  7000.0  12250.0  18000.0  \n",
       "Tecnologia/Fábrica de Software  3500.0  5000.0   7000.0  25000.0  \n",
       "Telecomunicação                 3500.0  5000.0   6000.0  18000.0  \n",
       "Varejo                          3500.0  5000.0   7000.0  22000.0  \n",
       "Área da Saúde                   4250.0  5000.0  14000.0  25000.0  "
      ]
     },
     "metadata": {},
     "output_type": "display_data"
    },
    {
     "data": {
      "text/plain": [
       "<AxesSubplot:title={'center':' Ciência de dados aplicada em cada seguimentação'}>"
      ]
     },
     "execution_count": 256,
     "metadata": {},
     "output_type": "execute_result"
    },
    {
     "data": {
      "image/png": "[encoded data removed]",
      "text/plain": [
       "<Figure size 432x288 with 1 Axes>"
      ]
     },
     "metadata": {
      "needs_background": "light"
     },
     "output_type": "display_data"
    }
   ],
   "source": [
    "#Ciência de Dados aplicados em diversos Setores\n",
    "display(analisando.groupby('setores').describe()['salario'])\n",
    "cientista_de_dados['setores'].value_counts().plot(kind = 'barh', title = ' Ciência de dados aplicada em cada seguimentação')"
   ]
  },
  {
   "cell_type": "markdown",
   "id": "174f078c",
   "metadata": {},
   "source": [
    "##### Anaisando os metodos mais utlizada pelos cientista de dados"
   ]
  },
  {
   "cell_type": "code",
   "execution_count": 257,
   "id": "5a48f037",
   "metadata": {},
   "outputs": [
    {
     "data": {
      "text/plain": [
       "('P20', 'linear_regression')             0.77\n",
       "('P20', 'logistic_regression')           0.69\n",
       "('P20', 'decision_tree')                 0.68\n",
       "('P20', 'random_forest')                 0.66\n",
       "('P20', 'cluster_analysis')              0.63\n",
       "('P20', 'gradient_boosted_machines')     0.46\n",
       "('P20', 'neural_networks')               0.44\n",
       "('P20', 'ensemble')                      0.40\n",
       "('P20', 'bayesian_inference')            0.34\n",
       "('P20', 'nlp')                           0.33\n",
       "('P20', 'svms')                          0.31\n",
       "('P20', 'glms')                          0.30\n",
       "('P20', 'longitudinal_data_analysis')    0.19\n",
       "('P20', 'rnns')                          0.16\n",
       "('P20', 'markov_chains')                 0.15\n",
       "('P20', 'survival_analysis')             0.14\n",
       "('P20', 'cnns')                          0.13\n",
       "('P20', 'joint analysis')                0.07\n",
       "('P20', 'gans')                          0.04\n",
       "('P20', 'hmms')                          0.04\n",
       "('P20', 'no_listed_methods')             0.04\n",
       "dtype: float64"
      ]
     },
     "execution_count": 257,
     "metadata": {},
     "output_type": "execute_result"
    }
   ],
   "source": [
    "cientista_de_dados.filter(regex='P20').mean().round(2).sort_values(ascending=False)"
   ]
  },
  {
   "cell_type": "code",
   "execution_count": 258,
   "id": "a69aa328",
   "metadata": {},
   "outputs": [
    {
     "data": {
      "text/plain": [
       "<AxesSubplot:title={'center':'Algoritmos mais usados pelos DS'}>"
      ]
     },
     "execution_count": 258,
     "metadata": {},
     "output_type": "execute_result"
    },
    {
     "data": {
      "image/png": "[encoded data removed]",
      "text/plain": [
       "<Figure size 432x288 with 1 Axes>"
      ]
     },
     "metadata": {
      "needs_background": "light"
     },
     "output_type": "display_data"
    }
   ],
   "source": [
    "#Anaisando os metodos mais utlizada por cientista de dados em Gráfico\n",
    "cientista_de_dados.filter(regex='P20').mean().sort_values(ascending=False).plot(kind='barh', title= 'Algoritmos mais usados pelos DS')"
   ]
  },
  {
   "cell_type": "markdown",
   "id": "fe308b42",
   "metadata": {},
   "source": [
    "##### Analisando qual a maior região em que o cientista de dados atuam.\n"
   ]
  },
  {
   "cell_type": "code",
   "execution_count": 259,
   "id": "df86ca91",
   "metadata": {},
   "outputs": [
    {
     "data": {
      "text/plain": [
       "<AxesSubplot:title={'center':'Região onde são mais contratados'}, ylabel=\"('D1', 'living_macroregion')\">"
      ]
     },
     "execution_count": 259,
     "metadata": {},
     "output_type": "execute_result"
    },
    {
     "data": {
      "image/png": "[encoded data removed]",
      "text/plain": [
       "<Figure size 432x288 with 1 Axes>"
      ]
     },
     "metadata": {
      "needs_background": "light"
     },
     "output_type": "display_data"
    }
   ],
   "source": [
    "cientista_de_dados.filter(regex='D1').value_counts().plot(kind='barh', title='Região onde são mais contratados')"
   ]
  },
  {
   "cell_type": "markdown",
   "id": "19cad503",
   "metadata": {},
   "source": [
    "##### Analisando as linguagens de programação mais utlizada pelos profissionais dos respectivos cargos."
   ]
  },
  {
   "cell_type": "code",
   "execution_count": 260,
   "id": "888f8320",
   "metadata": {},
   "outputs": [
    {
     "data": {
      "text/plain": [
       "('P21', 'python')                 0.89\n",
       "('P21', 'sql_')                   0.75\n",
       "('P21', 'r')                      0.41\n",
       "('P21', 'sas_stata')              0.10\n",
       "('P21', 'scala')                  0.08\n",
       "('P21', 'visual_basic_vba')       0.06\n",
       "('P21', 'java')                   0.04\n",
       "('P21', 'c_c++_c#')               0.03\n",
       "('P21', 'matlab')                 0.03\n",
       "('P21', 'dotnet')                 0.01\n",
       "('P21', 'julia')                  0.01\n",
       "('P21', 'php')                    0.01\n",
       "('P21', 'no_listed_languages')    0.00\n",
       "dtype: float64"
      ]
     },
     "execution_count": 260,
     "metadata": {},
     "output_type": "execute_result"
    }
   ],
   "source": [
    "cientista_de_dados.filter(regex='P21').mean().round(2).sort_values(ascending=False)"
   ]
  },
  {
   "cell_type": "code",
   "execution_count": 261,
   "id": "7b1e82c8",
   "metadata": {},
   "outputs": [
    {
     "data": {
      "text/plain": [
       "<AxesSubplot:title={'center':'Linguagens mais utilizadas'}>"
      ]
     },
     "execution_count": 261,
     "metadata": {},
     "output_type": "execute_result"
    },
    {
     "data": {
      "image/png": "[encoded data removed]",
      "text/plain": [
       "<Figure size 432x288 with 1 Axes>"
      ]
     },
     "metadata": {
      "needs_background": "light"
     },
     "output_type": "display_data"
    }
   ],
   "source": [
    "#Analisando as linguagens de programação mais utlizada pelos profissionais dos respectivos cargos em Grafico para melhor vizualização\n",
    "cientista_de_dados.filter(regex='P21').mean().sort_values(ascending=False).plot(kind='barh', title='Linguagens mais utilizadas')\n",
    "#mais de 90% das profissionais na area de dados comprovadas afirmam utilzar Python no dia-a-dia\n"
   ]
  },
  {
   "cell_type": "markdown",
   "id": "e717c499",
   "metadata": {},
   "source": [
    "##### Ferramentas de ETL mais utlizada por um cientista de dados."
   ]
  },
  {
   "cell_type": "code",
   "execution_count": 262,
   "id": "66c6d202",
   "metadata": {},
   "outputs": [
    {
     "data": {
      "text/plain": [
       "<AxesSubplot:title={'center':'ETL mais utlizados'}>"
      ]
     },
     "execution_count": 262,
     "metadata": {},
     "output_type": "execute_result"
    },
    {
     "data": {
      "image/png": "[encoded data removed]",
      "text/plain": [
       "<Figure size 432x288 with 1 Axes>"
      ]
     },
     "metadata": {
      "needs_background": "light"
     },
     "output_type": "display_data"
    }
   ],
   "source": [
    "cientista_de_dados.filter(regex='P28').mean().sort_values(ascending=False).plot(kind='barh', title='ETL mais utlizados')"
   ]
  },
  {
   "cell_type": "markdown",
   "id": "84ef657e",
   "metadata": {},
   "source": [
    "##### Ferramenta de Business Intelingence mais utilizado\n"
   ]
  },
  {
   "cell_type": "code",
   "execution_count": 263,
   "id": "f587d4d1",
   "metadata": {
    "scrolled": true
   },
   "outputs": [
    {
     "data": {
      "text/plain": [
       "<AxesSubplot:title={'center':'Ferramenta de visualização mais usadas'}>"
      ]
     },
     "execution_count": 263,
     "metadata": {},
     "output_type": "execute_result"
    },
    {
     "data": {
      "image/png": "[encoded data removed]",
      "text/plain": [
       "<Figure size 432x288 with 1 Axes>"
      ]
     },
     "metadata": {
      "needs_background": "light"
     },
     "output_type": "display_data"
    }
   ],
   "source": [
    "cientista_de_dados.filter(regex='P27').mean().sort_values(ascending=False).plot(kind='barh', title='Ferramenta de visualização mais usadas')"
   ]
  },
  {
   "cell_type": "markdown",
   "id": "32af6781",
   "metadata": {},
   "source": [
    "#### Plataforma onde tiveram mais cursos realizado em ciência de dados.\n"
   ]
  },
  {
   "cell_type": "code",
   "execution_count": 264,
   "id": "effd4abd",
   "metadata": {},
   "outputs": [
    {
     "data": {
      "text/plain": [
       "<AxesSubplot:title={'center':'Plataformais mais usadas onde os DS cursaram'}>"
      ]
     },
     "execution_count": 264,
     "metadata": {},
     "output_type": "execute_result"
    },
    {
     "data": {
      "image/png": "[encoded data removed]",
      "text/plain": [
       "<Figure size 432x288 with 1 Axes>"
      ]
     },
     "metadata": {
      "needs_background": "light"
     },
     "output_type": "display_data"
    }
   ],
   "source": [
    "cientista_de_dados.filter(regex='P34').mean().sort_values(ascending=False).plot(kind='barh', title='Plataformais mais usadas onde os DS cursaram')"
   ]
  },
  {
   "cell_type": "markdown",
   "id": "b6f04b3c",
   "metadata": {},
   "source": [
    "# Conclusão:\n"
   ]
  },
  {
   "cell_type": "markdown",
   "id": "145ade20",
   "metadata": {},
   "source": [
    "#### Durante análise exploratória podemos concluir que a área de dados está cada vez mais em alta, mesmo com problemas econômicos no País. Podemos tirar vários insights muito importantes dessa análise. Verificamos que os jovens com idade média de 25 a 30 anos ganham em torno de R$6.000,00 a  R$7.000,00 a maioria com o nível de graduação. Na análise do sexo masculino e feminino, infelizmente ainda existe diferença salarial independentemente do nível de escolaridade.  Também foram feitas várias comparações salariais, tais como tempo de experiência, ferramentas de visualização, linguagens de programação e métodos de algoritmo. As linguagens mais utilizadas são: Python, SQL e em seguida R. Observando o lado das corporações, as grandes empresas pagam melhor os funcionários e as áreas onde são aplicadas ciência de dados é o setor de tecnologia. Após todas análises conclui-se que o estudo dos dados e suas análises são essenciais para obtermos resultados concretos proporcionando uma tomada de decisão mais eficaz."
   ]
  },
  {
   "cell_type": "markdown",
   "id": "5975ff84",
   "metadata": {},
   "source": [
    "### "
   ]
  }
 ],
 "metadata": {
  "kernelspec": {
   "display_name": "Python 3",
   "language": "python",
   "name": "python3"
  },
  "language_info": {
   "codemirror_mode": {
    "name": "ipython",
    "version": 3
   },
   "file_extension": ".py",
   "mimetype": "text/x-python",
   "name": "python",
   "nbconvert_exporter": "python",
   "pygments_lexer": "ipython3",
   "version": "3.8.8"
  }
 },
 "nbformat": 4,
 "nbformat_minor": 5
}
